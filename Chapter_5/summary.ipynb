{
 "cells": [
  {
   "cell_type": "markdown",
   "metadata": {},
   "source": [
    "# Interfaces, Patterns, and Modularity"
   ]
  },
  {
   "cell_type": "markdown",
   "metadata": {},
   "source": [
    "Design patterns:\n",
    "\n",
    "* Are reusable solutions to many common design problems appearing in software engineering. \n",
    "\n",
    "* Are often language-agnostic and thus can be expressed using many programming languages.\n"
   ]
  },
  {
   "cell_type": "markdown",
   "metadata": {},
   "source": [
    "### zope.interface"
   ]
  },
  {
   "cell_type": "markdown",
   "metadata": {},
   "source": [
    "Consider the following code that checks if a list of geometric figures collide with the Axis-Aligned Bounding Box (AABB) algorithm. A simple implementation would be as follows:\n"
   ]
  },
  {
   "cell_type": "code",
   "execution_count": 1,
   "metadata": {},
   "outputs": [
    {
     "name": "stdout",
     "output_type": "stream",
     "text": [
      "(Square(x=0, y=0, size=10), Rect(x=5, y=5, width=20, height=20))\n",
      "(Square(x=0, y=0, size=10), Circle(x=1, y=1, radius=2))\n",
      "(Rect(x=5, y=5, width=20, height=20), Square(x=15, y=20, size=5))\n"
     ]
    }
   ],
   "source": [
    "!python _01_zope_interface/colliders_simple.py\n"
   ]
  },
  {
   "cell_type": "markdown",
   "metadata": {},
   "source": [
    "But what if we add another figure that is missing some important attribute?. We'll only see the error at runtime:\n"
   ]
  },
  {
   "cell_type": "code",
   "execution_count": 2,
   "metadata": {},
   "outputs": [
    {
     "name": "stdout",
     "output_type": "stream",
     "text": [
      "ERROR: AttributeError(\"'Point' object has no attribute 'bounding_box'\")\n"
     ]
    }
   ],
   "source": [
    "from _01_zope_interface.colliders_simple import Point, Square, find_collisions\n",
    "\n",
    "try:\n",
    "    coll_point = find_collisions([\n",
    "        Square(0, 0, 10),\n",
    "        Point(100, 200),\n",
    "    ])\n",
    "except AttributeError as e:\n",
    "    print(f'ERROR: {repr(e)}')"
   ]
  },
  {
   "cell_type": "markdown",
   "metadata": {},
   "source": [
    "We can avoid those kind of errors declaring explicit interfaces. The zope.interface allows us to create and implement explicit interfaces, as follows:"
   ]
  },
  {
   "cell_type": "code",
   "execution_count": 3,
   "metadata": {},
   "outputs": [
    {
     "name": "stdout",
     "output_type": "stream",
     "text": [
      "Valid attempt:\n",
      "\n",
      "(Square(x=0, y=0, size=10), Rect(x=5, y=5, width=20, height=20))\n",
      "(Square(x=0, y=0, size=10), Circle(x=1, y=1, radius=2))\n",
      "(Rect(x=5, y=5, width=20, height=20), Square(x=15, y=20, size=5))\n",
      "\n",
      "Invalid attempt (a detailed exception will be raised):\n",
      "\n",
      "Traceback (most recent call last):\n",
      "  File \"/home/work/Documents/Github/will-i-amv-books/Expert-Python-Programming-Fourth-Edition/Chapter_5/_01_zope_interface/colliders_interfaces.py\", line 106, in <module>\n",
      "    for collision in find_collisions([\n",
      "  File \"/home/work/Documents/Github/will-i-amv-books/Expert-Python-Programming-Fourth-Edition/Chapter_5/_01_zope_interface/colliders_interfaces.py\", line 27, in find_collisions\n",
      "    verifyObject(ICollidable, item)\n",
      "  File \"/home/work/.cache/pypoetry/virtualenvs/expert-python-programming-fourth-edition-em7utuy--py3.10/lib/python3.10/site-packages/zope/interface/verify.py\", line 166, in verifyObject\n",
      "    return _verify(iface, candidate, tentative, vtype='o')\n",
      "  File \"/home/work/.cache/pypoetry/virtualenvs/expert-python-programming-fourth-edition-em7utuy--py3.10/lib/python3.10/site-packages/zope/interface/verify.py\", line 89, in _verify\n",
      "    raise MultipleInvalid(iface, candidate, excs)\n",
      "zope.interface.exceptions.MultipleInvalid: The object Point(x=100, y=200) has failed to implement interface __main__.ICollidable:\n",
      "    Does not declaratively implement the interface\n",
      "    The __main__.ICollidable.bounding_box attribute was not provided\n"
     ]
    }
   ],
   "source": [
    "!python _01_zope_interface/colliders_interfaces.py\n"
   ]
  },
  {
   "cell_type": "markdown",
   "metadata": {},
   "source": [
    "In the last code example, the `verifyObject` function (there's also a similar `verifyClass` function) is used to raise a detailed exception if one of the class instances does not implement the interface `ICollidable` correctly.\n"
   ]
  },
  {
   "cell_type": "markdown",
   "metadata": {},
   "source": [
    "The `verifyClass` and `verifyObject` functions only verify the surface area of the interface and aren't able to traverse into attribute types. \n",
    "\n",
    "We can do a more in-depth verification with the `validateInvariants` function, which checks if the class has all attributes necessary to satisfy the `ICollidable` interface, but also verifies whether the structure of those attributes satisfies constraints defined in the interface.\n",
    "\n",
    "The new example is as follows:"
   ]
  },
  {
   "cell_type": "code",
   "execution_count": 4,
   "metadata": {},
   "outputs": [
    {
     "name": "stdout",
     "output_type": "stream",
     "text": [
      "Valid attempt:\n",
      "\n",
      "(Square(x=0, y=0, size=10), Rect(x=5, y=5, width=20, height=20))\n",
      "(Square(x=0, y=0, size=10), Circle(x=1, y=1, radius=2))\n",
      "(Rect(x=5, y=5, width=20, height=20), Square(x=15, y=20, size=5))\n",
      "\n",
      "Invalid attempt (a detailed exception will be raised):\n",
      "\n",
      "Traceback (most recent call last):\n",
      "  File \"/home/work/Documents/Github/will-i-amv-books/Expert-Python-Programming-Fourth-Edition/Chapter_5/_01_zope_interface/colliders_invariants.py\", line 120, in <module>\n",
      "    for collision in find_collisions([\n",
      "  File \"/home/work/Documents/Github/will-i-amv-books/Expert-Python-Programming-Fourth-Edition/Chapter_5/_01_zope_interface/colliders_invariants.py\", line 27, in find_collisions\n",
      "    ICollidable.validateInvariants(item)\n",
      "  File \"/home/work/.cache/pypoetry/virtualenvs/expert-python-programming-fourth-edition-em7utuy--py3.10/lib/python3.10/site-packages/zope/interface/interface.py\", line 869, in validateInvariants\n",
      "    invariant(obj)\n",
      "  File \"/home/work/Documents/Github/will-i-amv-books/Expert-Python-Programming-Fourth-Edition/Chapter_5/_01_zope_interface/colliders_invariants.py\", line 45, in <lambda>\n",
      "    invariant(lambda self: verifyObject(IBBox, self.bounding_box))\n",
      "  File \"/home/work/.cache/pypoetry/virtualenvs/expert-python-programming-fourth-edition-em7utuy--py3.10/lib/python3.10/site-packages/zope/interface/verify.py\", line 166, in verifyObject\n",
      "    return _verify(iface, candidate, tentative, vtype='o')\n",
      "  File \"/home/work/.cache/pypoetry/virtualenvs/expert-python-programming-fourth-edition-em7utuy--py3.10/lib/python3.10/site-packages/zope/interface/verify.py\", line 89, in _verify\n",
      "    raise MultipleInvalid(iface, candidate, excs)\n",
      "zope.interface.exceptions.MultipleInvalid: The object Point(x=100, y=200) has failed to implement interface __main__.IBBox:\n",
      "    Does not declaratively implement the interface\n",
      "    The __main__.IBBox.x1 attribute was not provided\n",
      "    The __main__.IBBox.y1 attribute was not provided\n",
      "    The __main__.IBBox.x2 attribute was not provided\n",
      "    The __main__.IBBox.y2 attribute was not provided\n"
     ]
    }
   ],
   "source": [
    "!python _01_zope_interface/colliders_invariants.py\n"
   ]
  },
  {
   "cell_type": "markdown",
   "metadata": {},
   "source": [
    "In the last code example, the `Point` class seems to implement the `ICollidable` interface on the surface, bit it does not satisfy the interface invariant: it doesn't have the `bounding_box` property as instance of the `Box` type, so an exception is raised.\n"
   ]
  }
 ],
 "metadata": {
  "kernelspec": {
   "display_name": "expert-python-programming-fourth-edition-em7utuy--py3.10",
   "language": "python",
   "name": "python3"
  },
  "language_info": {
   "codemirror_mode": {
    "name": "ipython",
    "version": 3
   },
   "file_extension": ".py",
   "mimetype": "text/x-python",
   "name": "python",
   "nbconvert_exporter": "python",
   "pygments_lexer": "ipython3",
   "version": "3.10.12"
  }
 },
 "nbformat": 4,
 "nbformat_minor": 2
}
