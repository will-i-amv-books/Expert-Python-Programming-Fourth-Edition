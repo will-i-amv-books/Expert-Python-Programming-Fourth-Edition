{
 "cells": [
  {
   "cell_type": "markdown",
   "metadata": {},
   "source": [
    "# Interfaces, Patterns, and Modularity"
   ]
  },
  {
   "cell_type": "markdown",
   "metadata": {},
   "source": [
    "Design patterns:\n",
    "\n",
    "* Are reusable solutions to many common design problems appearing in software engineering. \n",
    "\n",
    "* Are often language-agnostic and thus can be expressed using many programming languages.\n"
   ]
  },
  {
   "cell_type": "markdown",
   "metadata": {},
   "source": [
    "### zope.interface"
   ]
  },
  {
   "cell_type": "markdown",
   "metadata": {},
   "source": [
    "Consider the following code that checks if a list of geometric figures collide with the Axis-Aligned Bounding Box (AABB) algorithm. A simple implementation would be as follows:\n"
   ]
  },
  {
   "cell_type": "code",
   "execution_count": 1,
   "metadata": {},
   "outputs": [
    {
     "name": "stdout",
     "output_type": "stream",
     "text": [
      "(Square(x=0, y=0, size=10), Rect(x=5, y=5, width=20, height=20))\n",
      "(Square(x=0, y=0, size=10), Circle(x=1, y=1, radius=2))\n",
      "(Rect(x=5, y=5, width=20, height=20), Square(x=15, y=20, size=5))\n"
     ]
    }
   ],
   "source": [
    "!python _01_zope_interface/colliders_simple.py\n"
   ]
  },
  {
   "cell_type": "markdown",
   "metadata": {},
   "source": [
    "But what if we add another figure that is missing some important attribute?. We'll only see the error at runtime:\n"
   ]
  },
  {
   "cell_type": "code",
   "execution_count": 2,
   "metadata": {},
   "outputs": [
    {
     "name": "stdout",
     "output_type": "stream",
     "text": [
      "ERROR: AttributeError(\"'Point' object has no attribute 'bounding_box'\")\n"
     ]
    }
   ],
   "source": [
    "from _01_zope_interface.colliders_simple import Point, Square, find_collisions\n",
    "\n",
    "try:\n",
    "    coll_point = find_collisions([\n",
    "        Square(0, 0, 10),\n",
    "        Point(100, 200),\n",
    "    ])\n",
    "except AttributeError as e:\n",
    "    print(f'ERROR: {repr(e)}')"
   ]
  },
  {
   "cell_type": "markdown",
   "metadata": {},
   "source": [
    "We can avoid those kind of errors declaring explicit interfaces. The zope.interface allows us to create and implement explicit interfaces, as follows:"
   ]
  },
  {
   "cell_type": "code",
   "execution_count": 3,
   "metadata": {},
   "outputs": [
    {
     "name": "stdout",
     "output_type": "stream",
     "text": [
      "Valid attempt:\n",
      "\n",
      "(Square(x=0, y=0, size=10), Rect(x=5, y=5, width=20, height=20))\n",
      "(Square(x=0, y=0, size=10), Circle(x=1, y=1, radius=2))\n",
      "(Rect(x=5, y=5, width=20, height=20), Square(x=15, y=20, size=5))\n",
      "\n",
      "Invalid attempt (a detailed exception will be raised):\n",
      "\n",
      "Traceback (most recent call last):\n",
      "  File \"/home/work/Documents/Github/will-i-amv-books/Expert-Python-Programming-Fourth-Edition/Chapter_5/_01_zope_interface/colliders_interfaces.py\", line 106, in <module>\n",
      "    for collision in find_collisions([\n",
      "  File \"/home/work/Documents/Github/will-i-amv-books/Expert-Python-Programming-Fourth-Edition/Chapter_5/_01_zope_interface/colliders_interfaces.py\", line 27, in find_collisions\n",
      "    verifyObject(ICollidable, item)\n",
      "  File \"/home/work/.cache/pypoetry/virtualenvs/expert-python-programming-fourth-edition-em7utuy--py3.10/lib/python3.10/site-packages/zope/interface/verify.py\", line 166, in verifyObject\n",
      "    return _verify(iface, candidate, tentative, vtype='o')\n",
      "  File \"/home/work/.cache/pypoetry/virtualenvs/expert-python-programming-fourth-edition-em7utuy--py3.10/lib/python3.10/site-packages/zope/interface/verify.py\", line 89, in _verify\n",
      "    raise MultipleInvalid(iface, candidate, excs)\n",
      "zope.interface.exceptions.MultipleInvalid: The object Point(x=100, y=200) has failed to implement interface __main__.ICollidable:\n",
      "    Does not declaratively implement the interface\n",
      "    The __main__.ICollidable.bounding_box attribute was not provided\n"
     ]
    }
   ],
   "source": [
    "!python _01_zope_interface/colliders_interfaces.py\n"
   ]
  },
  {
   "cell_type": "markdown",
   "metadata": {},
   "source": [
    "In the last code example, the `verifyObject` function (there's also a similar `verifyClass` function) is used to raise a detailed exception if one of the class instances does not implement the interface `ICollidable` correctly.\n"
   ]
  },
  {
   "cell_type": "markdown",
   "metadata": {},
   "source": [
    "The `verifyClass` and `verifyObject` functions only verify the surface area of the interface and aren't able to traverse into attribute types. \n",
    "\n",
    "We can do a more in-depth verification with the `validateInvariants` function, which checks if the class has all attributes necessary to satisfy the `ICollidable` interface, but also verifies whether the structure of those attributes satisfies constraints defined in the interface.\n",
    "\n",
    "The new example is as follows:"
   ]
  },
  {
   "cell_type": "code",
   "execution_count": 4,
   "metadata": {},
   "outputs": [
    {
     "name": "stdout",
     "output_type": "stream",
     "text": [
      "Valid attempt:\n",
      "\n",
      "(Square(x=0, y=0, size=10), Rect(x=5, y=5, width=20, height=20))\n",
      "(Square(x=0, y=0, size=10), Circle(x=1, y=1, radius=2))\n",
      "(Rect(x=5, y=5, width=20, height=20), Square(x=15, y=20, size=5))\n",
      "\n",
      "Invalid attempt (a detailed exception will be raised):\n",
      "\n",
      "Traceback (most recent call last):\n",
      "  File \"/home/work/Documents/Github/will-i-amv-books/Expert-Python-Programming-Fourth-Edition/Chapter_5/_01_zope_interface/colliders_invariants.py\", line 120, in <module>\n",
      "    for collision in find_collisions([\n",
      "  File \"/home/work/Documents/Github/will-i-amv-books/Expert-Python-Programming-Fourth-Edition/Chapter_5/_01_zope_interface/colliders_invariants.py\", line 27, in find_collisions\n",
      "    ICollidable.validateInvariants(item)\n",
      "  File \"/home/work/.cache/pypoetry/virtualenvs/expert-python-programming-fourth-edition-em7utuy--py3.10/lib/python3.10/site-packages/zope/interface/interface.py\", line 869, in validateInvariants\n",
      "    invariant(obj)\n",
      "  File \"/home/work/Documents/Github/will-i-amv-books/Expert-Python-Programming-Fourth-Edition/Chapter_5/_01_zope_interface/colliders_invariants.py\", line 45, in <lambda>\n",
      "    invariant(lambda self: verifyObject(IBBox, self.bounding_box))\n",
      "  File \"/home/work/.cache/pypoetry/virtualenvs/expert-python-programming-fourth-edition-em7utuy--py3.10/lib/python3.10/site-packages/zope/interface/verify.py\", line 166, in verifyObject\n",
      "    return _verify(iface, candidate, tentative, vtype='o')\n",
      "  File \"/home/work/.cache/pypoetry/virtualenvs/expert-python-programming-fourth-edition-em7utuy--py3.10/lib/python3.10/site-packages/zope/interface/verify.py\", line 89, in _verify\n",
      "    raise MultipleInvalid(iface, candidate, excs)\n",
      "zope.interface.exceptions.MultipleInvalid: The object Point(x=100, y=200) has failed to implement interface __main__.IBBox:\n",
      "    Does not declaratively implement the interface\n",
      "    The __main__.IBBox.x1 attribute was not provided\n",
      "    The __main__.IBBox.y1 attribute was not provided\n",
      "    The __main__.IBBox.x2 attribute was not provided\n",
      "    The __main__.IBBox.y2 attribute was not provided\n"
     ]
    }
   ],
   "source": [
    "!python _01_zope_interface/colliders_invariants.py\n"
   ]
  },
  {
   "cell_type": "markdown",
   "metadata": {},
   "source": [
    "In the last code example, the `Point` class seems to implement the `ICollidable` interface on the surface, bit it does not satisfy the interface invariant: it doesn't have the `bounding_box` property as instance of the `Box` type, so an exception is raised.\n"
   ]
  },
  {
   "cell_type": "markdown",
   "metadata": {},
   "source": [
    "### Abstract Base Classes (ABCs)"
   ]
  },
  {
   "cell_type": "code",
   "execution_count": 5,
   "metadata": {},
   "outputs": [],
   "source": [
    "some_type = []\n"
   ]
  },
  {
   "cell_type": "markdown",
   "metadata": {},
   "source": [
    "In Python, type comparisons like the following example should be avoided:\n"
   ]
  },
  {
   "cell_type": "code",
   "execution_count": 6,
   "metadata": {},
   "outputs": [],
   "source": [
    "assert type(some_type) == list\n"
   ]
  },
  {
   "cell_type": "markdown",
   "metadata": {},
   "source": [
    "A better approach is to use the isinstance() function, so you can do type checking against a given type and also its subtypes, as follows: \n",
    "\n"
   ]
  },
  {
   "cell_type": "code",
   "execution_count": 7,
   "metadata": {},
   "outputs": [],
   "source": [
    "assert isinstance(some_type, list)\n"
   ]
  },
  {
   "cell_type": "markdown",
   "metadata": {},
   "source": [
    "You can even use a range of types to check the type compatibility, as follows:\n"
   ]
  },
  {
   "cell_type": "code",
   "execution_count": 8,
   "metadata": {},
   "outputs": [],
   "source": [
    "assert isinstance(some_type, (list, tuple, range))\n",
    "\n",
    "\n"
   ]
  },
  {
   "cell_type": "markdown",
   "metadata": {},
   "source": [
    "But this method won't work if you create a custom class that defines the `__iter__()` method (so it behaves similar to a list) but inherits directly from `object`. This is where ABCs are useful.\n",
    "\n",
    "ABC is a class that doesn't provide a concrete implementation, but defines a blueprint of a class that may be used to check against type compatibility.\n"
   ]
  },
  {
   "cell_type": "markdown",
   "metadata": {},
   "source": [
    "The following shows a generic ABC, many incorrect implementations and a correct implementation of it:"
   ]
  },
  {
   "cell_type": "code",
   "execution_count": 9,
   "metadata": {},
   "outputs": [
    {
     "name": "stdout",
     "output_type": "stream",
     "text": [
      "\n",
      "Instantiating ABC: <class '__main__.DummyInterface'>\n",
      "ERROR: TypeError(\"Can't instantiate abstract class DummyInterface with abstract methods dummy_method, dummy_property\")\n",
      "\n",
      "Instantiating ABC: <class '__main__.InvalidDummy'>\n",
      "ERROR: TypeError(\"Can't instantiate abstract class InvalidDummy with abstract methods dummy_method, dummy_property\")\n",
      "\n",
      "Instantiating ABC: <class '__main__.MissingMethodDummy'>\n",
      "ERROR: TypeError(\"Can't instantiate abstract class MissingMethodDummy with abstract method dummy_method\")\n",
      "\n",
      "Instantiating ABC: <class '__main__.MissingPropertyDummy'>\n",
      "ERROR: TypeError(\"Can't instantiate abstract class MissingPropertyDummy with abstract method dummy_property\")\n",
      "\n",
      "Instantiating ABC: <class '__main__.Dummy'>\n",
      "SUCCESS\n"
     ]
    }
   ],
   "source": [
    "!python _02_function_annotations_ABC/dummy_interface.py\n"
   ]
  },
  {
   "cell_type": "markdown",
   "metadata": {},
   "source": [
    "From the last code examples:\n",
    "\n",
    "* The `@abstractmethod` decorator indicates that a method must be implemented in classes that subclass the ABC. \n",
    "\n",
    "* If a class doesn't implement one of the abstract methods, a `TypeError` exception will be raised.\n",
    "\n",
    "* This way you can ensure implementation completeness.\n"
   ]
  },
  {
   "cell_type": "markdown",
   "metadata": {},
   "source": [
    "So the collider detection code can be modified to use ABCs, as follows:\n"
   ]
  },
  {
   "cell_type": "code",
   "execution_count": 10,
   "metadata": {},
   "outputs": [
    {
     "name": "stdout",
     "output_type": "stream",
     "text": [
      "Valid attempt:\n",
      "\n",
      "(Square(x=0, y=0, size=10), Rect(x=5, y=5, width=20, height=20))\n",
      "(Square(x=0, y=0, size=10), Circle(x=1, y=1, radius=2))\n",
      "(Rect(x=5, y=5, width=20, height=20), Square(x=15, y=20, size=5))\n",
      "\n",
      "Invalid attempt (with a dataclass that doesn't inherit from the ABC):\n",
      "\n",
      "TypeError('Point(x=100, y=200) is not a collider')\n",
      "\n",
      "Invalid attempt (with a dataclass that doesn't implement the ABC's abstract methods):\n",
      "\n",
      "TypeError(\"Can't instantiate abstract class PointWithABC with abstract method bounding_box\")\n"
     ]
    }
   ],
   "source": [
    "!python _02_function_annotations_ABC/colliders_abc.py\n"
   ]
  },
  {
   "cell_type": "markdown",
   "metadata": {},
   "source": [
    "ABCs provide the special `__subclasshook__(cls)` method. We can use it to add validation logic to check whether a subclass of `ColliderABC` is implicitly compatible with it, as follows:\n"
   ]
  },
  {
   "cell_type": "code",
   "execution_count": 11,
   "metadata": {},
   "outputs": [
    {
     "name": "stdout",
     "output_type": "stream",
     "text": [
      "Valid attempt:\n",
      "\n",
      "(Square(x=0, y=0, size=10), Rect(x=5, y=5, width=20, height=20))\n",
      "(Square(x=0, y=0, size=10), Circle(x=1, y=1, radius=2))\n",
      "(Rect(x=5, y=5, width=20, height=20), Square(x=15, y=20, size=5))\n",
      "\n",
      "Invalid attempt:\n",
      "\n",
      "Traceback (most recent call last):\n",
      "  File \"/home/work/Documents/Github/will-i-amv-books/Expert-Python-Programming-Fourth-Edition/Chapter_5/_02_function_annotations_ABC/colliders_subclasshooks.py\", line 127, in <module>\n",
      "    for collision in find_collisions([\n",
      "  File \"/home/work/Documents/Github/will-i-amv-books/Expert-Python-Programming-Fourth-Edition/Chapter_5/_02_function_annotations_ABC/colliders_subclasshooks.py\", line 39, in find_collisions\n",
      "    raise TypeError(f\"{item} is not a collider\")\n",
      "TypeError: Point(x=100, y=200) is not a collider\n"
     ]
    }
   ],
   "source": [
    "!python _02_function_annotations_ABC/colliders_subclasshooks.py\n"
   ]
  },
  {
   "cell_type": "markdown",
   "metadata": {},
   "source": [
    "With the `__subclasshook__()` method defined that way, `ColliderABC` becomes an implicit interface:\n",
    "\n",
    "* Any object will be considered an instance of ColliderABC as long as it has the structure that passes the subclass hook check.\n",
    "\n",
    "* So we can create classes compatible with the `ColliderABC` interface without explicitly inheriting from it.\n",
    "\n",
    "The following example shows implicit interfaces in action:"
   ]
  },
  {
   "cell_type": "code",
   "execution_count": 15,
   "metadata": {},
   "outputs": [],
   "source": [
    "from _02_function_annotations_ABC.colliders_subclasshooks import ColliderABC, Line, Point\n",
    "\n",
    "\n",
    "line = Line(Point(0, 0), Point(100, 100))\n"
   ]
  },
  {
   "cell_type": "code",
   "execution_count": 16,
   "metadata": {},
   "outputs": [
    {
     "data": {
      "text/plain": [
       "Box(x1=0, y1=0, x2=100, y2=100)"
      ]
     },
     "execution_count": 16,
     "metadata": {},
     "output_type": "execute_result"
    }
   ],
   "source": [
    "line.bounding_box"
   ]
  },
  {
   "cell_type": "code",
   "execution_count": 17,
   "metadata": {},
   "outputs": [
    {
     "data": {
      "text/plain": [
       "True"
      ]
     },
     "execution_count": 17,
     "metadata": {},
     "output_type": "execute_result"
    }
   ],
   "source": [
    "isinstance(line, ColliderABC)"
   ]
  },
  {
   "cell_type": "markdown",
   "metadata": {},
   "source": []
  }
 ],
 "metadata": {
  "kernelspec": {
   "display_name": "expert-python-programming-fourth-edition-em7utuy--py3.10",
   "language": "python",
   "name": "python3"
  },
  "language_info": {
   "codemirror_mode": {
    "name": "ipython",
    "version": 3
   },
   "file_extension": ".py",
   "mimetype": "text/x-python",
   "name": "python",
   "nbconvert_exporter": "python",
   "pygments_lexer": "ipython3",
   "version": "3.10.12"
  }
 },
 "nbformat": 4,
 "nbformat_minor": 2
}
