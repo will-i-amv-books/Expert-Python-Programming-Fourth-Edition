{
 "cells": [
  {
   "cell_type": "markdown",
   "metadata": {},
   "source": [
    "# Python in Comparison with Other Languages"
   ]
  },
  {
   "cell_type": "markdown",
   "metadata": {},
   "source": [
    "Someone that is familiar with arrays in the C language could write Python code similar to the following example:\n"
   ]
  },
  {
   "cell_type": "code",
   "execution_count": 1,
   "metadata": {},
   "outputs": [],
   "source": [
    "some_list = []\n",
    "for index in range(len(some_list)):\n",
    "    print(some_list[index])\n"
   ]
  },
  {
   "cell_type": "markdown",
   "metadata": {},
   "source": [
    "An experienced Pythonic programmer would most probably write:\n"
   ]
  },
  {
   "cell_type": "code",
   "execution_count": 2,
   "metadata": {},
   "outputs": [],
   "source": [
    "for item in some_list:\n",
    "    print(item)"
   ]
  },
  {
   "cell_type": "markdown",
   "metadata": {},
   "source": [
    "## Accessing super-classes"
   ]
  },
  {
   "cell_type": "markdown",
   "metadata": {},
   "source": [
    "Consider a subclass of Python's dictionary type, which allows access to the stored keys through a case-insensitive key lookup. \n",
    "The following is an example of such an implementation:\n"
   ]
  },
  {
   "cell_type": "code",
   "execution_count": 3,
   "metadata": {},
   "outputs": [
    {
     "name": "stdout",
     "output_type": "stream",
     "text": [
      "FOO: bar\n",
      "foo: bar\n",
      "biz: baz\n",
      "BIZ: baz\n"
     ]
    }
   ],
   "source": [
    "!python _01_Accessing_super_classes/caseinsensitive.py"
   ]
  },
  {
   "cell_type": "markdown",
   "metadata": {},
   "source": [
    "Good practices when subclassing built-in types:\n",
    "* Trying to directly subclass the built-in types 'dict' and 'list' can lead to subtle bugs.\n",
    "* For this reason, use colections.UserDict and collections.UserList for subclassing the dict and list types, respectively.\n"
   ]
  },
  {
   "cell_type": "markdown",
   "metadata": {},
   "source": [
    "## Multiple inheritance and Method Resolution Order"
   ]
  },
  {
   "cell_type": "markdown",
   "metadata": {},
   "source": [
    "The MRO algorithm in python is based on the 'C3 linearization' algorithm. It's useful in 'diamond class hierarchy' scenarios, such as the following example:\n"
   ]
  },
  {
   "cell_type": "code",
   "execution_count": 4,
   "metadata": {},
   "outputs": [
    {
     "name": "stdout",
     "output_type": "stream",
     "text": [
      "(\"MyClass's MRO: \\n\"\n",
      " \"(<class '__main__.MyClass'>, <class '__main__.Base1'>, <class \"\n",
      " \"'__main__.Base2'>, <class '__main__.CommonBase'>, <class 'object'>)\")\n"
     ]
    }
   ],
   "source": [
    "!python _02_Multiple_iheritance_MRO/mro.py"
   ]
  },
  {
   "cell_type": "markdown",
   "metadata": {},
   "source": [
    "## Class instance initialization"
   ]
  },
  {
   "cell_type": "markdown",
   "metadata": {},
   "source": [
    "Best practices when initializing classes:\n",
    "* Python classes do not require you to define attributes in the class body.\n",
    "* Defining attributes in the class body is also **dangerous**: it can lead to very subtle bugs if one decides to assign as a class attribute a mutable type like list or dict.\n"
   ]
  },
  {
   "cell_type": "markdown",
   "metadata": {},
   "source": [
    "To see the issues with mutable class attributes in action, consider the following class with mutable types as class attributes:"
   ]
  },
  {
   "cell_type": "code",
   "execution_count": 5,
   "metadata": {},
   "outputs": [],
   "source": [
    "from _03_Class_instance_init.aggregator_shared import AggregatorShared\n"
   ]
  },
  {
   "cell_type": "markdown",
   "metadata": {},
   "source": [
    "Let's create 2 instances of class 'AggregatorShared' and start adding elements to the 2 instances:"
   ]
  },
  {
   "cell_type": "code",
   "execution_count": 6,
   "metadata": {},
   "outputs": [],
   "source": [
    "a1 = AggregatorShared()\n",
    "a2 = AggregatorShared()\n",
    "a1.aggregate(\"a1-1\")\n",
    "a1.aggregate(\"a1-2\")\n",
    "a2.aggregate(\"a2-1\")\n"
   ]
  },
  {
   "cell_type": "markdown",
   "metadata": {},
   "source": [
    "When checking the 'all_aggregated' attribute of both instances, they are the same!. It's like they're not storing their own values in 'all_aggregated', but sharing all values added in a single list:"
   ]
  },
  {
   "cell_type": "code",
   "execution_count": 7,
   "metadata": {},
   "outputs": [
    {
     "data": {
      "text/plain": [
       "['a1-1', 'a1-2', 'a2-1']"
      ]
     },
     "execution_count": 7,
     "metadata": {},
     "output_type": "execute_result"
    }
   ],
   "source": [
    "a1.all_aggregated"
   ]
  },
  {
   "cell_type": "code",
   "execution_count": 8,
   "metadata": {},
   "outputs": [
    {
     "data": {
      "text/plain": [
       "['a1-1', 'a1-2', 'a2-1']"
      ]
     },
     "execution_count": 8,
     "metadata": {},
     "output_type": "execute_result"
    }
   ],
   "source": [
    "a2.all_aggregated"
   ]
  },
  {
   "cell_type": "markdown",
   "metadata": {},
   "source": [
    "When checking the 'last_aggregated' attribute of both instances, they are the last values added in each instance, as expected:"
   ]
  },
  {
   "cell_type": "code",
   "execution_count": 9,
   "metadata": {},
   "outputs": [
    {
     "data": {
      "text/plain": [
       "'a1-2'"
      ]
     },
     "execution_count": 9,
     "metadata": {},
     "output_type": "execute_result"
    }
   ],
   "source": [
    "a1.last_aggregated\n"
   ]
  },
  {
   "cell_type": "code",
   "execution_count": 10,
   "metadata": {},
   "outputs": [
    {
     "data": {
      "text/plain": [
       "'a2-1'"
      ]
     },
     "execution_count": 10,
     "metadata": {},
     "output_type": "execute_result"
    }
   ],
   "source": [
    "a2.last_aggregated\n"
   ]
  },
  {
   "cell_type": "markdown",
   "metadata": {},
   "source": [
    "By inspecting the class attribute values, we see that all 'AggregatorShared' instances shared their state\n",
    "through the mutable 'all_aggregated' attribute:"
   ]
  },
  {
   "cell_type": "code",
   "execution_count": 11,
   "metadata": {},
   "outputs": [
    {
     "data": {
      "text/plain": [
       "['a1-1', 'a1-2', 'a2-1']"
      ]
     },
     "execution_count": 11,
     "metadata": {},
     "output_type": "execute_result"
    }
   ],
   "source": [
    "AggregatorShared.all_aggregated\n"
   ]
  },
  {
   "cell_type": "code",
   "execution_count": 12,
   "metadata": {},
   "outputs": [],
   "source": [
    "AggregatorShared.last_aggregated\n"
   ]
  },
  {
   "cell_type": "markdown",
   "metadata": {},
   "source": [
    "To avoid the last issue, all attribute values that are supposed to be unique for every class instance should be initialized in the `__init__()` method only.\n",
    "\n",
    "Now let's create 2 instances of class 'AggregatorIndependent' and start adding elements to the 2 instances:\n"
   ]
  },
  {
   "cell_type": "code",
   "execution_count": 13,
   "metadata": {},
   "outputs": [],
   "source": [
    "from _03_Class_instance_init.aggregator_independent import AggregatorIndependent\n",
    "\n",
    "\n",
    "a1 = AggregatorIndependent()\n",
    "a2 = AggregatorIndependent()\n",
    "a1.aggregate(\"a1-1\")\n",
    "a1.aggregate(\"a1-2\")\n",
    "a2.aggregate(\"a2-1\")\n"
   ]
  },
  {
   "cell_type": "markdown",
   "metadata": {},
   "source": [
    "Now all instance objects attributes have their own values in each attribute, as expected:"
   ]
  },
  {
   "cell_type": "code",
   "execution_count": 14,
   "metadata": {},
   "outputs": [
    {
     "data": {
      "text/plain": [
       "['a1-1', 'a1-2']"
      ]
     },
     "execution_count": 14,
     "metadata": {},
     "output_type": "execute_result"
    }
   ],
   "source": [
    "a1.all_aggregated\n"
   ]
  },
  {
   "cell_type": "code",
   "execution_count": 15,
   "metadata": {},
   "outputs": [
    {
     "data": {
      "text/plain": [
       "['a2-1']"
      ]
     },
     "execution_count": 15,
     "metadata": {},
     "output_type": "execute_result"
    }
   ],
   "source": [
    "a2.all_aggregated"
   ]
  },
  {
   "cell_type": "code",
   "execution_count": 16,
   "metadata": {},
   "outputs": [
    {
     "data": {
      "text/plain": [
       "'a1-2'"
      ]
     },
     "execution_count": 16,
     "metadata": {},
     "output_type": "execute_result"
    }
   ],
   "source": [
    "a1.last_aggregated"
   ]
  },
  {
   "cell_type": "code",
   "execution_count": 17,
   "metadata": {},
   "outputs": [
    {
     "data": {
      "text/plain": [
       "'a2-1'"
      ]
     },
     "execution_count": 17,
     "metadata": {},
     "output_type": "execute_result"
    }
   ],
   "source": [
    "a2.last_aggregated"
   ]
  },
  {
   "cell_type": "markdown",
   "metadata": {},
   "source": [
    "## Attribute access patterns"
   ]
  },
  {
   "cell_type": "markdown",
   "metadata": {},
   "source": [
    "Python lacks the notion of public, private, and protected class attributes found in other OOP languages:\n",
    "\n",
    "* Private attributes restrict access to specific symbols from anyone outside of a specific class.\n",
    "\n",
    "* Protected attributes restrict access to specific symbols from anyone outside of the inheritance tree.\n"
   ]
  },
  {
   "cell_type": "markdown",
   "metadata": {},
   "source": [
    "The only similar thing Python has is 'name mangling': if an attribute is prefixed by __ (two underscores) within a class body, it's renamed by the interpreter:"
   ]
  },
  {
   "cell_type": "code",
   "execution_count": 18,
   "metadata": {},
   "outputs": [],
   "source": [
    "class MyClass:\n",
    "    def __init__(self):\n",
    "        self.__secret_value = 1\n",
    "\n",
    "\n",
    "instance_of = MyClass()\n"
   ]
  },
  {
   "cell_type": "code",
   "execution_count": 19,
   "metadata": {},
   "outputs": [
    {
     "name": "stdout",
     "output_type": "stream",
     "text": [
      "ERROR: AttributeError(\"'MyClass' object has no attribute '__secret_value'\")\n"
     ]
    }
   ],
   "source": [
    "try:\n",
    "    instance_of.__secret_value\n",
    "except AttributeError as e:\n",
    "    print(f'ERROR: {repr(e)}')"
   ]
  },
  {
   "cell_type": "code",
   "execution_count": 20,
   "metadata": {},
   "outputs": [
    {
     "data": {
      "text/plain": [
       "1"
      ]
     },
     "execution_count": 20,
     "metadata": {},
     "output_type": "execute_result"
    }
   ],
   "source": [
    "instance_of._MyClass__secret_value"
   ]
  },
  {
   "cell_type": "markdown",
   "metadata": {},
   "source": [
    "In Python:\n",
    "\n",
    "* Name mangling does not restrict attribute access, it only makes it less convenient.\n",
    "\n",
    "* But it can help avoid naming collisions in the inheritance tree. Still, it's not recommended to use name mangling in base classes by default, to avoid any collisions in advance.\n"
   ]
  },
  {
   "cell_type": "markdown",
   "metadata": {},
   "source": [
    "## Descriptors"
   ]
  },
  {
   "cell_type": "markdown",
   "metadata": {},
   "source": [
    "The descriptor classes are based on 3 special methods that form the descriptor protocol:\n",
    "\n",
    "* `__set__`(self, obj, value): This is called whenever the attribute is set. (a.k.a. setter)\n",
    "\n",
    "* `__get__`(self, obj, owner=None): This is called whenever the attribute is read. (a.k.a. getter)\n",
    "\n",
    "* `__delete__`(self, obj): This is called when del is invoked on the attribute.\n",
    "\n",
    "* A descriptor that implements `__get__()` and `__set__()` is called a data descriptor.\n",
    "\n",
    "* If it just implements `__get__()`, then it is called a non-data descriptor.\n"
   ]
  },
  {
   "cell_type": "markdown",
   "metadata": {},
   "source": [
    "Consider the following example that shows how descriptors work: "
   ]
  },
  {
   "cell_type": "code",
   "execution_count": 21,
   "metadata": {},
   "outputs": [
    {
     "name": "stdout",
     "output_type": "stream",
     "text": [
      "Retrieving var \"x\"\n",
      "10\n",
      "Updating var \"x\"\n",
      "Retrieving var \"x\"\n",
      "20\n",
      "5\n",
      "Deleting var \"x\"\n"
     ]
    }
   ],
   "source": [
    "!python _04_Descriptors/reveal_access.py\n"
   ]
  },
  {
   "cell_type": "markdown",
   "metadata": {},
   "source": [
    "The preceding example shows that:\n",
    "\n",
    "* The `__get__()` method is called whenever the instance attribute is retrieved. \n",
    "\n",
    "* The `__set__()` method is called whenever a value is assigned to the instance attribute. \n",
    "\n",
    "* The `__del__()` method is called whenever an instance attribute is deleted.\n",
    "\n",
    "* Descriptors, in order to work, need to be defined as class attributes. \n"
   ]
  },
  {
   "cell_type": "markdown",
   "metadata": {},
   "source": [
    "## Lazily evaluated attributes"
   ]
  },
  {
   "cell_type": "markdown",
   "metadata": {},
   "source": [
    "As an example usage of descriptors, consider a class 'WithSortedRandoms' where all instances have access to a shared list of sorted random values: \n",
    "\n",
    "* The length of the list can be arbitrarily long, so it makes sense to sort it once and reuse it for all instances. \n",
    "\n",
    "* So the list will be initialized only on first access. \n",
    "\n",
    "Here is an example usage of the 'WithSortedRandoms' class:\n"
   ]
  },
  {
   "cell_type": "code",
   "execution_count": 22,
   "metadata": {},
   "outputs": [
    {
     "name": "stdout",
     "output_type": "stream",
     "text": [
      "initialized!\n",
      "[0.016598060362082223, 0.10481644991803463, 0.22574921863577746, 0.5336030534000878, 0.9717477540254368]\n",
      "cached!\n",
      "[0.016598060362082223, 0.10481644991803463, 0.22574921863577746, 0.5336030534000878, 0.9717477540254368]\n"
     ]
    }
   ],
   "source": [
    "!python _05_lazily_evaluated_attributes/lazily_evaluated.py\n"
   ]
  },
  {
   "cell_type": "markdown",
   "metadata": {},
   "source": [
    "Also, a data descriptor can be implemented to be used as a decorator, as follows:\n"
   ]
  },
  {
   "cell_type": "code",
   "execution_count": 23,
   "metadata": {},
   "outputs": [
    {
     "name": "stdout",
     "output_type": "stream",
     "text": [
      "[[0.06911442085451336, 0.9375619584750133, 0.45047734675517925, 0.1159088773628445, 0.05134171065994331]]\n",
      "[[0.06911442085451336, 0.9375619584750133, 0.45047734675517925, 0.1159088773628445, 0.05134171065994331]]\n"
     ]
    }
   ],
   "source": [
    "!python _05_lazily_evaluated_attributes/lazy_property.py\n"
   ]
  },
  {
   "cell_type": "markdown",
   "metadata": {},
   "source": [
    "This is useful when:\n",
    "* An object instance needs to be stored as a class attribute that's shared between its instances (to save resources).\n",
    "* The object can't be initialized at import time because some global application state/context is needed.\n"
   ]
  },
  {
   "cell_type": "markdown",
   "metadata": {},
   "source": [
    "## Properties\n"
   ]
  },
  {
   "cell_type": "markdown",
   "metadata": {},
   "source": [
    "In other languages:\n",
    "\n",
    "* It's common to have private methods by default and a getter an setter for every attribute.\n",
    "\n",
    "* But with a large number of attributes, this means tons of getters and setter methods, which obscures the intent of the class.\n",
    " "
   ]
  },
  {
   "cell_type": "code",
   "execution_count": 24,
   "metadata": {},
   "outputs": [],
   "source": [
    "class UserAccount:\n",
    "    def __init__(self, username, password):\n",
    "        self._username = username\n",
    "        self._password = password\n",
    "\n",
    "    def get_username(self):\n",
    "        return self._username\n",
    "\n",
    "    def set_username(self, username):\n",
    "        self._username = username\n",
    "\n",
    "    def get_password(self):\n",
    "        return self._password\n",
    "\n",
    "    def set_username(self, password):\n",
    "        self._password = password\n"
   ]
  },
  {
   "cell_type": "markdown",
   "metadata": {},
   "source": [
    "With python's properties:\n",
    "\n",
    "* You can expose class attributes as public by default.\n",
    "\n",
    "* Then convert one attribute to private and add getter and setter methods when necessary.\n"
   ]
  },
  {
   "cell_type": "code",
   "execution_count": 25,
   "metadata": {},
   "outputs": [],
   "source": [
    "class UserAccount:\n",
    "    def __init__(self, username, password):\n",
    "        self.username = username\n",
    "        self._password = password\n",
    "\n",
    "    @property\n",
    "    def password(self):\n",
    "        return self._password\n",
    "    \n",
    "    @password.setter\n",
    "    def password(self, value):\n",
    "        self._password = value\n"
   ]
  },
  {
   "cell_type": "markdown",
   "metadata": {},
   "source": [
    "## Dynamic polymorphism"
   ]
  },
  {
   "cell_type": "markdown",
   "metadata": {},
   "source": [
    "Python's mechanism of polymorphism is called \"duck typing\": \n",
    "\n",
    "* This means that any object can be used within a given context as long as the object works and behaves as the context expects.\n",
    "\n",
    "* \"If it walks like a duck and it quacks like a duck, then it must be a duck\".\n"
   ]
  },
  {
   "cell_type": "markdown",
   "metadata": {},
   "source": [
    "Consider the following example:"
   ]
  },
  {
   "cell_type": "code",
   "execution_count": 26,
   "metadata": {},
   "outputs": [],
   "source": [
    "def printfile(file):\n",
    "    try:\n",
    "        contents = file.read()\n",
    "        print(file)\n",
    "    finally:\n",
    "        file.close()\n"
   ]
  },
  {
   "cell_type": "markdown",
   "metadata": {},
   "source": [
    "This function won't raise any exception as long as:\n",
    "\n",
    "* The file argument has a read() method.\n",
    "\n",
    "* The result of file.read() is a valid argument to the print() function.\n",
    "\n",
    "* The file argument has the close() method.\n"
   ]
  },
  {
   "cell_type": "markdown",
   "metadata": {},
   "source": [
    "## Dunder methods (language protocols)"
   ]
  },
  {
   "cell_type": "markdown",
   "metadata": {},
   "source": [
    "To see dunder methods in action, consider the following implementation of matrix operations (+, -, *):"
   ]
  },
  {
   "cell_type": "code",
   "execution_count": 27,
   "metadata": {},
   "outputs": [
    {
     "name": "stdout",
     "output_type": "stream",
     "text": [
      "Matrix m1: \n",
      "[1, 2, 3]\n",
      "[4, 1, 4]\n",
      "[5, 7, 9]\n",
      "\n",
      "Matrix m2: \n",
      "[1, 2, 3]\n",
      "[1, 4, 3]\n",
      "[1, 0, 5]\n",
      "\n",
      "Sum of m1 and m2: \n",
      "[2, 4, 6]\n",
      "[5, 5, 7]\n",
      "[6, 7, 14]\n",
      "\n",
      "Substraction of m1 and m2: \n",
      "[0, 0, 0]\n",
      "[3, -3, 1]\n",
      "[4, 7, 4]\n",
      "\n",
      "Multiplication of m1 and m2: \n",
      "[6, 10, 24]\n",
      "[9, 12, 35]\n",
      "[21, 38, 81]\n",
      "\n"
     ]
    }
   ],
   "source": [
    "!python _06_Dunder_methods/matrices.py\n"
   ]
  },
  {
   "cell_type": "markdown",
   "metadata": {},
   "source": [
    "We can add support for multiplication between a matrix and a scalar as follows:"
   ]
  },
  {
   "cell_type": "code",
   "execution_count": 28,
   "metadata": {},
   "outputs": [
    {
     "name": "stdout",
     "output_type": "stream",
     "text": [
      "Matrix m1: \n",
      "[1, 2, 3]\n",
      "[4, 1, 4]\n",
      "[5, 7, 9]\n",
      "\n",
      "Matrix m2: \n",
      "[1, 2, 3]\n",
      "[1, 4, 3]\n",
      "[1, 0, 5]\n",
      "\n",
      "Multiplication of m1 by 2: \n",
      "[2, 4, 6]\n",
      "[8, 2, 8]\n",
      "[10, 14, 18]\n",
      "\n",
      "Multiplication of m2 by 3: \n",
      "[3, 6, 9]\n",
      "[3, 12, 9]\n",
      "[3, 0, 15]\n",
      "\n"
     ]
    }
   ],
   "source": [
    "!python _06_Dunder_methods/matrices_with_scalars.py\n"
   ]
  },
  {
   "cell_type": "markdown",
   "metadata": {},
   "source": [
    "## Single dispatch"
   ]
  },
  {
   "cell_type": "markdown",
   "metadata": {},
   "source": [
    "In situations when an alternative to function overloading is required and the\n",
    "number of alternative function implementations is really large, using multiple if\n",
    "isinstance(...) clauses can quickly get out of hand. Good design practice dictates\n",
    "writing small, single-purpose functions. One large function that branches over\n",
    "several types to handle input arguments differently is rarely a good design.\n",
    "The Python Standard Library provides a convenient alternative. The functools.\n",
    "singledispatch() decorator allows you to register multiple implementations\n",
    "of a function. Those implementations can take any number of arguments but\n",
    "implementations will be dispatched depending on the type of the first argument."
   ]
  },
  {
   "cell_type": "code",
   "execution_count": 29,
   "metadata": {},
   "outputs": [
    {
     "name": "stdout",
     "output_type": "stream",
     "text": [
      "dt: 2023-12-13T16:04:47.338100\n",
      "complex: 100.0-30.0j\n",
      "raw: January\n",
      "<class 'object'> -> <function report at 0x7f83cff63d90>\n",
      "<class 'datetime.datetime'> -> <function _ at 0x7f83cfcda170>\n",
      "<class 'complex'> -> <function _ at 0x7f83cfcda200>\n",
      "<class 'numbers.Real'> -> <function _ at 0x7f83cfcda3b0>\n"
     ]
    }
   ],
   "source": [
    "!python _07_Single_dispatch/dispatch.py"
   ]
  },
  {
   "cell_type": "markdown",
   "metadata": {},
   "source": [
    "## Data classes"
   ]
  },
  {
   "cell_type": "markdown",
   "metadata": {},
   "source": [
    "Consider a program that does some geometric computation with a 'Vector' class that holds info about 2D vectors. \n",
    "\n",
    "With a normal class, we have to implement all the methods related to math operations (addition, subtraction, equality) by hand, as follows:\n"
   ]
  },
  {
   "cell_type": "code",
   "execution_count": 30,
   "metadata": {},
   "outputs": [],
   "source": [
    "def print_vec_operations(v1, v2):\n",
    "    add = v1 + v2\n",
    "    sub = v1 - v2\n",
    "    uneq = (v1 == v2)\n",
    "    eq = (v2 == v2)\n",
    "    print(f\"Adding vectors {v1} + {v2} = {add}\")\n",
    "    print(f\"Substracting vectors {v1} - {v2} = {sub}\")\n",
    "    print(f\"Comparing vectors {v1} and {v2} = {'equal' if uneq else 'unequal'}\")\n",
    "    print(f\"Comparing vectors {v2} + {v2} = {'equal' if eq else 'unequal'}\")\n"
   ]
  },
  {
   "cell_type": "code",
   "execution_count": 31,
   "metadata": {},
   "outputs": [
    {
     "name": "stdout",
     "output_type": "stream",
     "text": [
      "Adding vectors <Vector: x=5, y=3> + <Vector: x=1, y=2> = <Vector: x=6, y=5>\n",
      "Substracting vectors <Vector: x=5, y=3> - <Vector: x=1, y=2> = <Vector: x=4, y=1>\n",
      "Comparing vectors <Vector: x=5, y=3> and <Vector: x=1, y=2> = unequal\n",
      "Comparing vectors <Vector: x=1, y=2> + <Vector: x=1, y=2> = equal\n"
     ]
    }
   ],
   "source": [
    "from _08_Dataclasses.vector import Vector\n",
    "\n",
    "\n",
    "v1 = Vector(5, 3)\n",
    "v2 = Vector(1, 2)\n",
    "\n",
    "print_vec_operations(v1, v2)\n"
   ]
  },
  {
   "cell_type": "markdown",
   "metadata": {},
   "source": [
    "But with python dataclasses, we can make our code shorter, since the `dataclasses` module automatically implements the `__init__()`, `__repr__()`, and `__eq__()` methods:\n",
    " "
   ]
  },
  {
   "cell_type": "code",
   "execution_count": 32,
   "metadata": {},
   "outputs": [
    {
     "name": "stdout",
     "output_type": "stream",
     "text": [
      "Adding vectors Vector(x=5, y=3) + Vector(x=1, y=2) = Vector(x=6, y=5)\n",
      "Substracting vectors Vector(x=5, y=3) - Vector(x=1, y=2) = Vector(x=4, y=1)\n",
      "Comparing vectors Vector(x=5, y=3) and Vector(x=1, y=2) = unequal\n",
      "Comparing vectors Vector(x=1, y=2) + Vector(x=1, y=2) = equal\n"
     ]
    }
   ],
   "source": [
    "from _08_Dataclasses.vector_dataclasses import Vector as VectorDataClass\n",
    "\n",
    "\n",
    "v1_dc = VectorDataClass(5, 3)\n",
    "v2_dc = VectorDataClass(1, 2)\n",
    "\n",
    "print_vec_operations(v1_dc, v2_dc)\n"
   ]
  },
  {
   "cell_type": "markdown",
   "metadata": {},
   "source": [
    "Another useful feature is to make dataclasses immutable, as follows:"
   ]
  },
  {
   "cell_type": "code",
   "execution_count": 33,
   "metadata": {},
   "outputs": [
    {
     "name": "stdout",
     "output_type": "stream",
     "text": [
      "You can access attributes of class FrozenVector(x=5, y=3). For example, its attribute 'x' is 5\n",
      "But tou can't modify attributes of class FrozenVector(x=5, y=3):\n",
      "\tERROR: FrozenInstanceError(\"cannot assign to field 'x'\")\n"
     ]
    }
   ],
   "source": [
    "from _08_Dataclasses.vector_dataclasses import FrozenVector\n",
    "\n",
    "\n",
    "v1_fr = FrozenVector(5, 3)\n",
    "print(f\"You can access attributes of class {v1_fr}. For example, its attribute 'x' is {v1_fr.x}\")\n",
    "print(f\"But tou can't modify attributes of class {v1_fr}:\")\n",
    "try:\n",
    "    v1_fr.x = 8\n",
    "except Exception as e:\n",
    "    print(f\"\\tERROR: {repr(e)}\")"
   ]
  },
  {
   "cell_type": "markdown",
   "metadata": {},
   "source": [
    "Since assigning default values to class attributes in the class body is a bad idea, the dataclass module offers an alternative through the field() constructor, as follows:\n"
   ]
  },
  {
   "cell_type": "code",
   "execution_count": 34,
   "metadata": {},
   "outputs": [],
   "source": [
    "from dataclasses import dataclass, field\n",
    "\n",
    "\n",
    "@dataclass\n",
    "class DataClassWithDefaults:\n",
    "    immutable: str = field(default=\"this is static default value\")\n",
    "    mutable: list = field(default_factory=list)\n"
   ]
  },
  {
   "cell_type": "code",
   "execution_count": 35,
   "metadata": {},
   "outputs": [
    {
     "data": {
      "text/plain": [
       "DataClassWithDefaults(immutable='this is static default value', mutable=[])"
      ]
     },
     "execution_count": 35,
     "metadata": {},
     "output_type": "execute_result"
    }
   ],
   "source": [
    "DataClassWithDefaults()\n"
   ]
  },
  {
   "cell_type": "code",
   "execution_count": 36,
   "metadata": {},
   "outputs": [
    {
     "data": {
      "text/plain": [
       "DataClassWithDefaults(immutable='This is immutable', mutable=[])"
      ]
     },
     "execution_count": 36,
     "metadata": {},
     "output_type": "execute_result"
    }
   ],
   "source": [
    "DataClassWithDefaults(\"This is immutable\")\n"
   ]
  },
  {
   "cell_type": "code",
   "execution_count": 37,
   "metadata": {},
   "outputs": [
    {
     "data": {
      "text/plain": [
       "DataClassWithDefaults(immutable=None, mutable=['this', 'is', 'list'])"
      ]
     },
     "execution_count": 37,
     "metadata": {},
     "output_type": "execute_result"
    }
   ],
   "source": [
    "DataClassWithDefaults(None, [\"this\", \"is\", \"list\"])\n"
   ]
  },
  {
   "cell_type": "markdown",
   "metadata": {},
   "source": [
    "## Functional programming\n"
   ]
  },
  {
   "cell_type": "markdown",
   "metadata": {},
   "source": [
    "### Some basic terminology of functional programming:\n",
    "\n",
    "Side effects: \n",
    "\n",
    "* A function has side effects if it modifies the state outside of its local environment. \n",
    "\n",
    "* Examples of side effects: modification of a global variable or an attribute of an object that is available outside of the method scope,  saving data to some external service. \n",
    "\n",
    "Referential transparency: \n",
    "\n",
    "* A function is referentially transparent if it can be replaced with the value that corresponds to its output without changing the behavior of the program. \n",
    "\n",
    "* A referentially transparent function lacks side effects, but a function that lacks side effects may not be referentially transparent. \n",
    "\n",
    "* For instance, Python's pow(x, y) function lacks side effects and it can be replaced with the value of `x^y`, so it's referentially transparent; but the datetime.now() method doesn't have any observable side effects but will return a different value every time it's called, so it's referentially opaque. \n",
    "\n",
    "Pure functions: \n",
    "\n",
    "* A function that does not have any side effects and is referentially transparent.\n",
    "\n",
    "First-class functions: \n",
    "\n",
    "* They are functions that can be treated as any other value or entity. \n",
    "\n",
    "* For example, they can be passed as arguments to other functions, returned as function return values, and assigned to variables. \n"
   ]
  },
  {
   "cell_type": "markdown",
   "metadata": {},
   "source": [
    "Python has functional features, such as:\n",
    "\n",
    "* Lambda functions and first-class functions\n",
    "\n",
    "* map(), filter(), and reduce() functions\n",
    "\n",
    "* Partial objects and functions\n",
    "\n",
    "* Generators and generator expression\n"
   ]
  },
  {
   "cell_type": "markdown",
   "metadata": {},
   "source": [
    "## Lambda functions"
   ]
  },
  {
   "cell_type": "markdown",
   "metadata": {},
   "source": [
    "Lambda functions are functions without name, commonly used once. Instead of writing this:"
   ]
  },
  {
   "cell_type": "code",
   "execution_count": 38,
   "metadata": {},
   "outputs": [
    {
     "data": {
      "text/plain": [
       "5541.769440932395"
      ]
     },
     "execution_count": 38,
     "metadata": {},
     "output_type": "execute_result"
    }
   ],
   "source": [
    "import math\n",
    "\n",
    "\n",
    "def circle_area(radius):\n",
    "    return math.pi * radius ** 2\n",
    "\n",
    "circle_area(42)"
   ]
  },
  {
   "cell_type": "markdown",
   "metadata": {},
   "source": [
    "You write this:"
   ]
  },
  {
   "cell_type": "code",
   "execution_count": 39,
   "metadata": {},
   "outputs": [
    {
     "data": {
      "text/plain": [
       "<function __main__.<lambda>(radius)>"
      ]
     },
     "execution_count": 39,
     "metadata": {},
     "output_type": "execute_result"
    }
   ],
   "source": [
    "lambda radius: math.pi * radius ** 2"
   ]
  },
  {
   "cell_type": "markdown",
   "metadata": {},
   "source": [
    "In theory, you can assign lambda functions to variables, but it's not commonly used:"
   ]
  },
  {
   "cell_type": "code",
   "execution_count": 40,
   "metadata": {},
   "outputs": [
    {
     "data": {
      "text/plain": [
       "5541.769440932395"
      ]
     },
     "execution_count": 40,
     "metadata": {},
     "output_type": "execute_result"
    }
   ],
   "source": [
    "circle_area = lambda radius: math.pi * radius ** 2\n",
    "circle_area(42)"
   ]
  },
  {
   "cell_type": "markdown",
   "metadata": {},
   "source": [
    "The most common use is to use them as args to higher-order functions. For example, you can sort a list of objects by a custom attribute, as follows:"
   ]
  },
  {
   "cell_type": "code",
   "execution_count": 41,
   "metadata": {},
   "outputs": [
    {
     "data": {
      "text/plain": [
       "[Person(name='Hillary', age=76),\n",
       " Person(name='Donald', age=77),\n",
       " Person(name='Joe', age=81)]"
      ]
     },
     "execution_count": 41,
     "metadata": {},
     "output_type": "execute_result"
    }
   ],
   "source": [
    "from dataclasses import dataclass\n",
    "\n",
    "\n",
    "@dataclass\n",
    "class Person:\n",
    "    name: str\n",
    "    age: int\n",
    "\n",
    "\n",
    "people = [Person('Donald', 77), Person('Joe', 81), Person('Hillary', 76)]\n",
    "sorted(people, key=lambda person: person.age)\n",
    "\n"
   ]
  },
  {
   "cell_type": "markdown",
   "metadata": {},
   "source": [
    "## The map(), filter(), and reduce() functions"
   ]
  },
  {
   "cell_type": "code",
   "execution_count": 42,
   "metadata": {},
   "outputs": [],
   "source": [
    "import functools as ft\n",
    "import itertools as it\n",
    "import operator as op"
   ]
  },
  {
   "cell_type": "markdown",
   "metadata": {},
   "source": [
    "The most common higher-order functions are map, filter and reduce. They are used as follows:"
   ]
  },
  {
   "cell_type": "markdown",
   "metadata": {},
   "source": [
    "map() applies a function to every item of an iterable:"
   ]
  },
  {
   "cell_type": "code",
   "execution_count": 43,
   "metadata": {},
   "outputs": [
    {
     "name": "stdout",
     "output_type": "stream",
     "text": [
      "Map iterator object: <map object at 0x7f209c345c60>\n",
      "Map object to list: [0, 1, 4, 9, 16, 25, 36, 49, 64, 81]\n",
      "0 0 0\n",
      "1 1 1\n",
      "2 2 2\n",
      "3 3 3\n",
      "Map applied to 3 lists : [None, None, None, None]\n"
     ]
    }
   ],
   "source": [
    "# The function map itself returns an iterator, not a sequence:\n",
    "\n",
    "print(f\"Map iterator object: {map(lambda x: x**2, range(10))}\")\n",
    "\n",
    "# To evaluate the iterator, pass the iterator object to a sequence:\n",
    "\n",
    "print(f\"Map object to list: {list(map(lambda x: x**2, range(10)))}\")\n",
    "\n",
    "# The map function can be applied to more than one sequence. It will stop at the length of the shortest one:\n",
    "\n",
    "mapped = list(map(print, range(5), range(4), range(5)))\n",
    "\n",
    "print(f\"Map applied to 3 lists : {mapped}\")\n",
    "\n",
    "\n",
    "\n"
   ]
  },
  {
   "cell_type": "markdown",
   "metadata": {},
   "source": [
    "filter() allows us to filter out input values that don't meet the predicate defined by the func argument:\n",
    "\n"
   ]
  },
  {
   "cell_type": "code",
   "execution_count": 44,
   "metadata": {},
   "outputs": [
    {
     "name": "stdout",
     "output_type": "stream",
     "text": [
      "Even numbers in range from 0 to 9 are: [0, 2, 4, 6, 8]\n",
      "Odd numbers in range from 0 to 9 are: [1, 3, 5, 7, 9]\n",
      "Animals that start with letter 's' are: ['snake', 'squirrel']\n"
     ]
    }
   ],
   "source": [
    "evens = filter(lambda number: number % 2 == 0, range(10))\n",
    "odds = filter(lambda number: number % 2 == 1, range(10))\n",
    "print(f\"Even numbers in range from 0 to 9 are: {list(evens)}\")\n",
    "print(f\"Odd numbers in range from 0 to 9 are: {list(odds)}\")\n",
    "\n",
    "animals = [\"giraffe\", \"snake\", \"lion\", \"squirrel\"]\n",
    "animals_s = filter(lambda animal: animal.startswith('s'), animals)\n",
    "print(f\"Animals that start with letter 's' are: {list(animals_s)}\")\n"
   ]
  },
  {
   "cell_type": "markdown",
   "metadata": {},
   "source": [
    "reduce() reduce (as the name suggests) an iterable to a single value. It cumulatively performs an operation specified\n",
    "by a functiona over all iterable items:"
   ]
  },
  {
   "cell_type": "code",
   "execution_count": 45,
   "metadata": {},
   "outputs": [
    {
     "name": "stdout",
     "output_type": "stream",
     "text": [
      "Sum of the first 100 numbers using a lambda function: 4950\n",
      "Sum of the first 100 numbers using operators from 'operator' module: 4950\n",
      "Finding the maximum element of list [1, 3, 5, 6, 2]: 6\n"
     ]
    }
   ],
   "source": [
    "print(\n",
    "    \"Sum of the first 100 numbers using a lambda function: \" + \n",
    "    f\"{ft.reduce(lambda x, y: x + y, range(100))}\"\n",
    ")\n",
    "\n",
    "print(\n",
    "    \"Sum of the first 100 numbers using operators from 'operator' module: \" + \n",
    "    f\"{ft.reduce(op.add, range(100))}\"\n",
    ")\n",
    "\n",
    "list_ = [1, 3, 5, 6, 2] \n",
    "print(\n",
    "    f\"Finding the maximum element of list {list_}: \" + \n",
    "    f\"{ft.reduce(lambda x, y: x if x > y else y, list_)}\"\n",
    ")\n",
    "\n"
   ]
  },
  {
   "cell_type": "markdown",
   "metadata": {},
   "source": [
    "Both map() and filter() can work on infinite sequences and they return an iterator, so we can consume consecutive elements of the iterator using the next() function:\n"
   ]
  },
  {
   "cell_type": "code",
   "execution_count": 46,
   "metadata": {},
   "outputs": [
    {
     "data": {
      "text/plain": [
       "<map at 0x7f209c346740>"
      ]
     },
     "execution_count": 46,
     "metadata": {},
     "output_type": "execute_result"
    }
   ],
   "source": [
    "sequence = map(lambda x: x**2, it.count())\n",
    "sequence"
   ]
  },
  {
   "cell_type": "code",
   "execution_count": 47,
   "metadata": {},
   "outputs": [
    {
     "data": {
      "text/plain": [
       "0"
      ]
     },
     "execution_count": 47,
     "metadata": {},
     "output_type": "execute_result"
    }
   ],
   "source": [
    "next(sequence)\n"
   ]
  },
  {
   "cell_type": "code",
   "execution_count": 48,
   "metadata": {},
   "outputs": [
    {
     "data": {
      "text/plain": [
       "1"
      ]
     },
     "execution_count": 48,
     "metadata": {},
     "output_type": "execute_result"
    }
   ],
   "source": [
    "next(sequence)"
   ]
  },
  {
   "cell_type": "code",
   "execution_count": 49,
   "metadata": {},
   "outputs": [
    {
     "data": {
      "text/plain": [
       "4"
      ]
     },
     "execution_count": 49,
     "metadata": {},
     "output_type": "execute_result"
    }
   ],
   "source": [
    "next(sequence)\n"
   ]
  },
  {
   "cell_type": "code",
   "execution_count": 50,
   "metadata": {},
   "outputs": [
    {
     "data": {
      "text/plain": [
       "9"
      ]
     },
     "execution_count": 50,
     "metadata": {},
     "output_type": "execute_result"
    }
   ],
   "source": [
    "next(sequence)\n"
   ]
  },
  {
   "cell_type": "markdown",
   "metadata": {},
   "source": [
    "## Partial objects and functions"
   ]
  },
  {
   "cell_type": "markdown",
   "metadata": {},
   "source": [
    "Partial functions are functions with some of its arguments 'fixed' to a value. For example, we can use `partial` to 'fix' the `base` argument of the `pow` function to 2, as follows:"
   ]
  },
  {
   "cell_type": "code",
   "execution_count": 51,
   "metadata": {},
   "outputs": [],
   "source": [
    "powers_of_2 = ft.partial(pow, 2)\n"
   ]
  },
  {
   "cell_type": "code",
   "execution_count": 52,
   "metadata": {},
   "outputs": [
    {
     "data": {
      "text/plain": [
       "4"
      ]
     },
     "execution_count": 52,
     "metadata": {},
     "output_type": "execute_result"
    }
   ],
   "source": [
    "powers_of_2(2)\n"
   ]
  },
  {
   "cell_type": "code",
   "execution_count": 53,
   "metadata": {},
   "outputs": [
    {
     "data": {
      "text/plain": [
       "32"
      ]
     },
     "execution_count": 53,
     "metadata": {},
     "output_type": "execute_result"
    }
   ],
   "source": [
    "powers_of_2(5)\n"
   ]
  },
  {
   "cell_type": "code",
   "execution_count": 54,
   "metadata": {},
   "outputs": [
    {
     "data": {
      "text/plain": [
       "1024"
      ]
     },
     "execution_count": 54,
     "metadata": {},
     "output_type": "execute_result"
    }
   ],
   "source": [
    "powers_of_2(10)\n"
   ]
  },
  {
   "cell_type": "markdown",
   "metadata": {},
   "source": [
    "## Generators"
   ]
  },
  {
   "cell_type": "markdown",
   "metadata": {},
   "source": [
    "Generators allows us to write efficient code for functions that return sequences. Using the `yield` statement, we can pause a function and return an intermediate result. The function saves its execution context and can be resumed later.\n",
    "\n",
    "For example, a generator expression to compute the Fibonacci sequence can be like the following:\n"
   ]
  },
  {
   "cell_type": "code",
   "execution_count": 55,
   "metadata": {},
   "outputs": [],
   "source": [
    "\n",
    "def fibonacci():\n",
    "    a, b = 0, 1\n",
    "    while True:\n",
    "        yield b\n",
    "        a, b = b, a + b\n"
   ]
  },
  {
   "cell_type": "markdown",
   "metadata": {},
   "source": [
    "We can retrieve new values from generators as if they were iterators with the `next()` function:"
   ]
  },
  {
   "cell_type": "code",
   "execution_count": 56,
   "metadata": {},
   "outputs": [
    {
     "name": "stdout",
     "output_type": "stream",
     "text": [
      "Item 1 in the Fibonacci sequence: 1\n",
      "Item 2 in the Fibonacci sequence: 1\n",
      "Item 3 in the Fibonacci sequence: 2\n",
      "Item 4 in the Fibonacci sequence: 3\n",
      "Item 5 in the Fibonacci sequence: 5\n",
      "Item 6 in the Fibonacci sequence: 8\n",
      "Item 7 in the Fibonacci sequence: 13\n",
      "Item 8 in the Fibonacci sequence: 21\n",
      "Item 9 in the Fibonacci sequence: 34\n",
      "Item 10 in the Fibonacci sequence: 55\n"
     ]
    }
   ],
   "source": [
    "fib = fibonacci()\n",
    "for idx in range(10):\n",
    "    print(f'Item {idx + 1} in the Fibonacci sequence: {next(fib)}')\n"
   ]
  },
  {
   "cell_type": "markdown",
   "metadata": {},
   "source": [
    "Also, we can retrieve generator values in for loops:"
   ]
  },
  {
   "cell_type": "code",
   "execution_count": 57,
   "metadata": {},
   "outputs": [
    {
     "name": "stdout",
     "output_type": "stream",
     "text": [
      "Item 1 in the Fibonacci sequence: 1\n",
      "Item 2 in the Fibonacci sequence: 1\n",
      "Item 3 in the Fibonacci sequence: 2\n",
      "Item 4 in the Fibonacci sequence: 3\n",
      "Item 5 in the Fibonacci sequence: 5\n",
      "Item 6 in the Fibonacci sequence: 8\n",
      "Item 7 in the Fibonacci sequence: 13\n",
      "Item 8 in the Fibonacci sequence: 21\n",
      "Item 9 in the Fibonacci sequence: 34\n",
      "Item 10 in the Fibonacci sequence: 55\n"
     ]
    }
   ],
   "source": [
    "for idx, item in enumerate(fibonacci()):\n",
    "    print(f'Item {idx + 1} in the Fibonacci sequence: {item}')\n",
    "    if idx >= 9:\n",
    "        break\n"
   ]
  },
  {
   "cell_type": "markdown",
   "metadata": {},
   "source": [
    "## Decorators"
   ]
  },
  {
   "cell_type": "code",
   "execution_count": 58,
   "metadata": {},
   "outputs": [],
   "source": [
    "from functools import wraps\n"
   ]
  },
  {
   "cell_type": "markdown",
   "metadata": {},
   "source": [
    "Decorators are sytax sugar for higher-order functions. The function skeleton of a decorator is as follows:"
   ]
  },
  {
   "cell_type": "code",
   "execution_count": 59,
   "metadata": {},
   "outputs": [],
   "source": [
    "def some_decorator(f):\n",
    "    @wraps(f) # @wraps decorator copies decorated function metadata (name, type annotations)\n",
    "    def decorated_function(*args, **kwargs):\n",
    "        ## Do something here\n",
    "        return f(*args, **kwargs)\n",
    "    return decorated_function"
   ]
  },
  {
   "cell_type": "markdown",
   "metadata": {},
   "source": [
    "To use decorators, use `@` before the decorator name, as follows:"
   ]
  },
  {
   "cell_type": "code",
   "execution_count": 60,
   "metadata": {},
   "outputs": [],
   "source": [
    "@some_decorator\n",
    "def decorated_function():\n",
    "    pass"
   ]
  },
  {
   "cell_type": "markdown",
   "metadata": {},
   "source": [
    "This is equifalent to the following function call:"
   ]
  },
  {
   "cell_type": "code",
   "execution_count": 61,
   "metadata": {},
   "outputs": [],
   "source": [
    "decorated_function = some_decorator(decorated_function)\n"
   ]
  },
  {
   "cell_type": "markdown",
   "metadata": {},
   "source": [
    "## Enumerations"
   ]
  },
  {
   "cell_type": "code",
   "execution_count": 62,
   "metadata": {},
   "outputs": [],
   "source": [
    "from enum import Enum, Flag, auto\n"
   ]
  },
  {
   "cell_type": "markdown",
   "metadata": {},
   "source": [
    "Enumerated types or Enums are types that have a finite number of named values. They are useful for encoding a closed set of values for variables or function arguments.\n",
    "\n",
    "A simple Enum to encode the days of the week would be as follows:\n"
   ]
  },
  {
   "cell_type": "code",
   "execution_count": 63,
   "metadata": {},
   "outputs": [],
   "source": [
    "class Weekday(Enum):\n",
    "    MONDAY = 0\n",
    "    TUESDAY = 1\n",
    "    WEDNESDAY = 2\n",
    "    THURSDAY = 3\n",
    "    FRIDAY = 4\n",
    "    SATURDAY = 5\n",
    "    SUNDAY = 6\n",
    "\n"
   ]
  },
  {
   "cell_type": "markdown",
   "metadata": {},
   "source": [
    "If the member values are not important, we can use the auto() type, which will be replaced with automatically generated values:\n"
   ]
  },
  {
   "cell_type": "code",
   "execution_count": 64,
   "metadata": {},
   "outputs": [],
   "source": [
    "class Weekday(Enum):\n",
    "    MONDAY = auto()\n",
    "    TUESDAY = auto()\n",
    "    WEDNESDAY = auto()\n",
    "    THURSDAY = auto()\n",
    "    FRIDAY = auto()\n",
    "    SATURDAY = auto()\n",
    "    SUNDAY = auto()"
   ]
  },
  {
   "cell_type": "markdown",
   "metadata": {},
   "source": [
    "Enums are useful when some variable can take only a finite number of choices. For example, we can use them to define the status of objects, as follows:\n"
   ]
  },
  {
   "cell_type": "code",
   "execution_count": 65,
   "metadata": {},
   "outputs": [],
   "source": [
    "class OrderStatus(Enum):\n",
    "    PENDING = auto()\n",
    "    PROCESSING = auto()\n",
    "    PROCESSED = auto()\n",
    "\n",
    "\n",
    "class Order:\n",
    "    def __init__(self):\n",
    "        self.status = OrderStatus.PENDING\n",
    "\n",
    "    def process(self):\n",
    "        if self.status == OrderStatus.PROCESSED:\n",
    "            raise ValueError(\n",
    "                \"Can't process order that has been already processed\"\n",
    "            )\n",
    "        # Some code here...\n",
    "        self.status = OrderStatus.PROCESSING\n",
    "        # More code here...\n",
    "        self.status = OrderStatus.PROCESSED\n"
   ]
  }
 ],
 "metadata": {
  "kernelspec": {
   "display_name": "expert-python-programming-fourth-edition-em7utuy--py3.10",
   "language": "python",
   "name": "python3"
  },
  "language_info": {
   "codemirror_mode": {
    "name": "ipython",
    "version": 3
   },
   "file_extension": ".py",
   "mimetype": "text/x-python",
   "name": "python",
   "nbconvert_exporter": "python",
   "pygments_lexer": "ipython3",
   "version": "3.10.12"
  }
 },
 "nbformat": 4,
 "nbformat_minor": 2
}
