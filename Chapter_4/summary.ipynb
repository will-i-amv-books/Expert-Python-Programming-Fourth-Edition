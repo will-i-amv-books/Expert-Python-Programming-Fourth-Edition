{
 "cells": [
  {
   "cell_type": "markdown",
   "metadata": {},
   "source": [
    "# Python in Comparison with Other Languages"
   ]
  },
  {
   "cell_type": "markdown",
   "metadata": {},
   "source": [
    "Someone that is familiar with arrays in the C language could write Python code similar to the following example:\n"
   ]
  },
  {
   "cell_type": "code",
   "execution_count": 1,
   "metadata": {},
   "outputs": [],
   "source": [
    "some_list = []\n",
    "for index in range(len(some_list)):\n",
    "    print(some_list[index])\n"
   ]
  },
  {
   "cell_type": "markdown",
   "metadata": {},
   "source": [
    "An experienced Pythonic programmer would most probably write:\n"
   ]
  },
  {
   "cell_type": "code",
   "execution_count": 2,
   "metadata": {},
   "outputs": [],
   "source": [
    "for item in some_list:\n",
    "    print(item)"
   ]
  },
  {
   "cell_type": "markdown",
   "metadata": {},
   "source": [
    "## Accessing super-classes"
   ]
  },
  {
   "cell_type": "markdown",
   "metadata": {},
   "source": [
    "Consider a subclass of Python's dictionary type, which allows access to the stored keys through a case-insensitive key lookup. \n",
    "The following is an example of such an implementation:\n"
   ]
  },
  {
   "cell_type": "code",
   "execution_count": 3,
   "metadata": {},
   "outputs": [
    {
     "name": "stdout",
     "output_type": "stream",
     "text": [
      "FOO: bar\n",
      "foo: bar\n",
      "biz: baz\n",
      "BIZ: baz\n"
     ]
    }
   ],
   "source": [
    "!python _01_Accessing_super_classes/caseinsensitive.py"
   ]
  },
  {
   "cell_type": "markdown",
   "metadata": {},
   "source": [
    "Good practices when subclassing built-in types:\n",
    "* Trying to directly subclass the built-in types 'dict' and 'list' can lead to subtle bugs.\n",
    "* For this reason, use colections.UserDict and collections.UserList for subclassing the dict and list types, respectively.\n"
   ]
  },
  {
   "cell_type": "markdown",
   "metadata": {},
   "source": [
    "## Multiple inheritance and Method Resolution Order"
   ]
  },
  {
   "cell_type": "markdown",
   "metadata": {},
   "source": [
    "The MRO algorithm in python is based on the 'C3 linearization' algorithm. It's useful in 'diamond class hierarchy' scenarios, such as the following example:\n"
   ]
  },
  {
   "cell_type": "code",
   "execution_count": 4,
   "metadata": {},
   "outputs": [
    {
     "name": "stdout",
     "output_type": "stream",
     "text": [
      "(\"MyClass's MRO: \\n\"\n",
      " \"(<class '__main__.MyClass'>, <class '__main__.Base1'>, <class \"\n",
      " \"'__main__.Base2'>, <class '__main__.CommonBase'>, <class 'object'>)\")\n"
     ]
    }
   ],
   "source": [
    "!python _02_Multiple_iheritance_MRO/mro.py"
   ]
  },
  {
   "cell_type": "markdown",
   "metadata": {},
   "source": [
    "## Class instance initialization"
   ]
  },
  {
   "cell_type": "markdown",
   "metadata": {},
   "source": [
    "Best practices when initializing classes:\n",
    "* Python classes do not require you to define attributes in the class body.\n",
    "* Defining attributes in the class body is also **dangerous**: it can lead to very subtle bugs if one decides to assign as a class attribute a mutable type like list or dict.\n"
   ]
  },
  {
   "cell_type": "markdown",
   "metadata": {},
   "source": [
    "To see the issues with mutable class attributes in action, consider the following class with mutable types as class attributes:"
   ]
  },
  {
   "cell_type": "code",
   "execution_count": 5,
   "metadata": {},
   "outputs": [],
   "source": [
    "from _03_Class_instance_init.aggregator_shared import AggregatorShared\n"
   ]
  },
  {
   "cell_type": "markdown",
   "metadata": {},
   "source": [
    "Let's create 2 instances of class 'AggregatorShared' and start adding elements to the 2 instances:"
   ]
  },
  {
   "cell_type": "code",
   "execution_count": 6,
   "metadata": {},
   "outputs": [],
   "source": [
    "a1 = AggregatorShared()\n",
    "a2 = AggregatorShared()\n",
    "a1.aggregate(\"a1-1\")\n",
    "a1.aggregate(\"a1-2\")\n",
    "a2.aggregate(\"a2-1\")\n"
   ]
  },
  {
   "cell_type": "markdown",
   "metadata": {},
   "source": [
    "When checking the 'all_aggregated' attribute of both instances, they are the same!. It's like they're not storing their own values in 'all_aggregated', but sharing all values added in a single list:"
   ]
  },
  {
   "cell_type": "code",
   "execution_count": 7,
   "metadata": {},
   "outputs": [
    {
     "data": {
      "text/plain": [
       "['a1-1', 'a1-2', 'a2-1']"
      ]
     },
     "execution_count": 7,
     "metadata": {},
     "output_type": "execute_result"
    }
   ],
   "source": [
    "a1.all_aggregated"
   ]
  },
  {
   "cell_type": "code",
   "execution_count": 8,
   "metadata": {},
   "outputs": [
    {
     "data": {
      "text/plain": [
       "['a1-1', 'a1-2', 'a2-1']"
      ]
     },
     "execution_count": 8,
     "metadata": {},
     "output_type": "execute_result"
    }
   ],
   "source": [
    "a2.all_aggregated"
   ]
  },
  {
   "cell_type": "markdown",
   "metadata": {},
   "source": [
    "When checking the 'last_aggregated' attribute of both instances, they are the last values added in each instance, as expected:"
   ]
  },
  {
   "cell_type": "code",
   "execution_count": 9,
   "metadata": {},
   "outputs": [
    {
     "data": {
      "text/plain": [
       "'a1-2'"
      ]
     },
     "execution_count": 9,
     "metadata": {},
     "output_type": "execute_result"
    }
   ],
   "source": [
    "a1.last_aggregated\n"
   ]
  },
  {
   "cell_type": "code",
   "execution_count": 10,
   "metadata": {},
   "outputs": [
    {
     "data": {
      "text/plain": [
       "'a2-1'"
      ]
     },
     "execution_count": 10,
     "metadata": {},
     "output_type": "execute_result"
    }
   ],
   "source": [
    "a2.last_aggregated\n"
   ]
  },
  {
   "cell_type": "markdown",
   "metadata": {},
   "source": [
    "By inspecting the class attribute values, we see that all 'AggregatorShared' instances shared their state\n",
    "through the mutable 'all_aggregated' attribute:"
   ]
  },
  {
   "cell_type": "code",
   "execution_count": 11,
   "metadata": {},
   "outputs": [
    {
     "data": {
      "text/plain": [
       "['a1-1', 'a1-2', 'a2-1']"
      ]
     },
     "execution_count": 11,
     "metadata": {},
     "output_type": "execute_result"
    }
   ],
   "source": [
    "AggregatorShared.all_aggregated\n"
   ]
  },
  {
   "cell_type": "code",
   "execution_count": 12,
   "metadata": {},
   "outputs": [],
   "source": [
    "AggregatorShared.last_aggregated\n"
   ]
  },
  {
   "cell_type": "markdown",
   "metadata": {},
   "source": [
    "To avoid the last issue, all attribute values that are supposed to be unique for every class instance should be initialized in the `__init__()` method only.\n",
    "\n",
    "Now let's create 2 instances of class 'AggregatorIndependent' and start adding elements to the 2 instances:\n"
   ]
  },
  {
   "cell_type": "code",
   "execution_count": 13,
   "metadata": {},
   "outputs": [],
   "source": [
    "from _03_Class_instance_init.aggregator_independent import AggregatorIndependent\n",
    "\n",
    "\n",
    "a1 = AggregatorIndependent()\n",
    "a2 = AggregatorIndependent()\n",
    "a1.aggregate(\"a1-1\")\n",
    "a1.aggregate(\"a1-2\")\n",
    "a2.aggregate(\"a2-1\")\n"
   ]
  },
  {
   "cell_type": "markdown",
   "metadata": {},
   "source": [
    "Now all instance objects attributes have their own values in each attribute, as expected:"
   ]
  },
  {
   "cell_type": "code",
   "execution_count": 14,
   "metadata": {},
   "outputs": [
    {
     "data": {
      "text/plain": [
       "['a1-1', 'a1-2']"
      ]
     },
     "execution_count": 14,
     "metadata": {},
     "output_type": "execute_result"
    }
   ],
   "source": [
    "a1.all_aggregated\n"
   ]
  },
  {
   "cell_type": "code",
   "execution_count": 15,
   "metadata": {},
   "outputs": [
    {
     "data": {
      "text/plain": [
       "['a2-1']"
      ]
     },
     "execution_count": 15,
     "metadata": {},
     "output_type": "execute_result"
    }
   ],
   "source": [
    "a2.all_aggregated"
   ]
  },
  {
   "cell_type": "code",
   "execution_count": 16,
   "metadata": {},
   "outputs": [
    {
     "data": {
      "text/plain": [
       "'a1-2'"
      ]
     },
     "execution_count": 16,
     "metadata": {},
     "output_type": "execute_result"
    }
   ],
   "source": [
    "a1.last_aggregated"
   ]
  },
  {
   "cell_type": "code",
   "execution_count": 17,
   "metadata": {},
   "outputs": [
    {
     "data": {
      "text/plain": [
       "'a2-1'"
      ]
     },
     "execution_count": 17,
     "metadata": {},
     "output_type": "execute_result"
    }
   ],
   "source": [
    "a2.last_aggregated"
   ]
  },
  {
   "cell_type": "markdown",
   "metadata": {},
   "source": [
    "## Attribute access patterns"
   ]
  },
  {
   "cell_type": "markdown",
   "metadata": {},
   "source": [
    "Python lacks the notion of public, private, and protected class attributes found in other OOP languages:\n",
    "\n",
    "* Private attributes restrict access to specific symbols from anyone outside of a specific class.\n",
    "\n",
    "* Protected attributes restrict access to specific symbols from anyone outside of the inheritance tree.\n"
   ]
  },
  {
   "cell_type": "markdown",
   "metadata": {},
   "source": [
    "The only similar thing Python has is 'name mangling': if an attribute is prefixed by __ (two underscores) within a class body, it's renamed by the interpreter:"
   ]
  },
  {
   "cell_type": "code",
   "execution_count": 18,
   "metadata": {},
   "outputs": [],
   "source": [
    "class MyClass:\n",
    "    def __init__(self):\n",
    "        self.__secret_value = 1\n",
    "\n",
    "\n",
    "instance_of = MyClass()\n"
   ]
  },
  {
   "cell_type": "code",
   "execution_count": 19,
   "metadata": {},
   "outputs": [
    {
     "ename": "AttributeError",
     "evalue": "'MyClass' object has no attribute '__secret_value'",
     "output_type": "error",
     "traceback": [
      "\u001b[0;31m---------------------------------------------------------------------------\u001b[0m",
      "\u001b[0;31mAttributeError\u001b[0m                            Traceback (most recent call last)",
      "Cell \u001b[0;32mIn[19], line 1\u001b[0m\n\u001b[0;32m----> 1\u001b[0m \u001b[43minstance_of\u001b[49m\u001b[38;5;241;43m.\u001b[39;49m\u001b[43m__secret_value\u001b[49m\n",
      "\u001b[0;31mAttributeError\u001b[0m: 'MyClass' object has no attribute '__secret_value'"
     ]
    }
   ],
   "source": [
    "instance_of.__secret_value\n"
   ]
  },
  {
   "cell_type": "code",
   "execution_count": 20,
   "metadata": {},
   "outputs": [
    {
     "data": {
      "text/plain": [
       "1"
      ]
     },
     "execution_count": 20,
     "metadata": {},
     "output_type": "execute_result"
    }
   ],
   "source": [
    "instance_of._MyClass__secret_value"
   ]
  },
  {
   "cell_type": "markdown",
   "metadata": {},
   "source": [
    "In Python:\n",
    "\n",
    "* Name mangling does not restrict attribute access, it only makes it less convenient.\n",
    "\n",
    "* But it can help avoid naming collisions in the inheritance tree. Still, it's not recommended to use name mangling in base classes by default, to avoid any collisions in advance.\n"
   ]
  },
  {
   "cell_type": "markdown",
   "metadata": {},
   "source": [
    "## Descriptors"
   ]
  },
  {
   "cell_type": "markdown",
   "metadata": {},
   "source": [
    "The descriptor classes are based on 3 special methods that form the descriptor protocol:\n",
    "\n",
    "* `__set__`(self, obj, value): This is called whenever the attribute is set. (a.k.a. setter)\n",
    "\n",
    "* `__get__`(self, obj, owner=None): This is called whenever the attribute is read. (a.k.a. getter)\n",
    "\n",
    "* `__delete__`(self, obj): This is called when del is invoked on the attribute.\n",
    "\n",
    "* A descriptor that implements `__get__()` and `__set__()` is called a data descriptor.\n",
    "\n",
    "* If it just implements `__get__()`, then it is called a non-data descriptor.\n"
   ]
  },
  {
   "cell_type": "markdown",
   "metadata": {},
   "source": [
    "Consider the following example that shows how descriptors work: "
   ]
  },
  {
   "cell_type": "code",
   "execution_count": 21,
   "metadata": {},
   "outputs": [
    {
     "name": "stdout",
     "output_type": "stream",
     "text": [
      "Retrieving var \"x\"\n",
      "10\n",
      "Updating var \"x\"\n",
      "Retrieving var \"x\"\n",
      "20\n",
      "5\n",
      "Deleting var \"x\"\n"
     ]
    }
   ],
   "source": [
    "!python _04_Descriptors/reveal_access.py\n"
   ]
  },
  {
   "cell_type": "markdown",
   "metadata": {},
   "source": [
    "The preceding example shows that:\n",
    "\n",
    "* The `__get__()` method is called whenever the instance attribute is retrieved. \n",
    "\n",
    "* The `__set__()` method is called whenever a value is assigned to the instance attribute. \n",
    "\n",
    "* The `__del__()` method is called whenever an instance attribute is deleted.\n",
    "\n",
    "* Descriptors, in order to work, need to be defined as class attributes. \n"
   ]
  },
  {
   "cell_type": "markdown",
   "metadata": {},
   "source": [
    "## Lazily evaluated attributes"
   ]
  },
  {
   "cell_type": "markdown",
   "metadata": {},
   "source": [
    "As an example usage of descriptors, consider a class 'WithSortedRandoms' where all instances have access to a shared list of sorted random values: \n",
    "\n",
    "* The length of the list can be arbitrarily long, so it makes sense to sort it once and reuse it for all instances. \n",
    "\n",
    "* So the list will be initialized only on first access. \n",
    "\n",
    "Here is an example usage of the 'WithSortedRandoms' class:\n"
   ]
  },
  {
   "cell_type": "code",
   "execution_count": 22,
   "metadata": {},
   "outputs": [
    {
     "name": "stdout",
     "output_type": "stream",
     "text": [
      "initialized!\n",
      "[0.05187589683610638, 0.20347074966617795, 0.335194338415429, 0.8931927622289663, 0.9584916674144855]\n",
      "cached!\n",
      "[0.05187589683610638, 0.20347074966617795, 0.335194338415429, 0.8931927622289663, 0.9584916674144855]\n"
     ]
    }
   ],
   "source": [
    "!python _05_lazily_evaluated_attributes/lazily_evaluated.py\n"
   ]
  },
  {
   "cell_type": "markdown",
   "metadata": {},
   "source": [
    "Also, a data descriptor can be implemented to be used as a decorator, as follows:\n"
   ]
  },
  {
   "cell_type": "code",
   "execution_count": 23,
   "metadata": {},
   "outputs": [
    {
     "name": "stdout",
     "output_type": "stream",
     "text": [
      "[[0.8182933774323621, 0.4278356278017691, 0.7359357327077695, 0.3443619169080848, 0.95180158266743]]\n",
      "[[0.8182933774323621, 0.4278356278017691, 0.7359357327077695, 0.3443619169080848, 0.95180158266743]]\n"
     ]
    }
   ],
   "source": [
    "!python _05_lazily_evaluated_attributes/lazy_property.py\n"
   ]
  },
  {
   "cell_type": "markdown",
   "metadata": {},
   "source": [
    "This is useful when:\n",
    "* An object instance needs to be stored as a class attribute that's shared between its instances (to save resources).\n",
    "* The object can't be initialized at import time because some global application state/context is needed.\n"
   ]
  },
  {
   "cell_type": "markdown",
   "metadata": {},
   "source": [
    "## Properties\n"
   ]
  },
  {
   "cell_type": "markdown",
   "metadata": {},
   "source": [
    "In other languages:\n",
    "\n",
    "* It's common to have private methods by default and a getter an setter for every attribute.\n",
    "\n",
    "* But with a large number of attributes, this means tons of getters and setter methods, which obscures the intent of the class.\n",
    " "
   ]
  },
  {
   "cell_type": "code",
   "execution_count": 24,
   "metadata": {},
   "outputs": [],
   "source": [
    "class UserAccount:\n",
    "    def __init__(self, username, password):\n",
    "        self._username = username\n",
    "        self._password = password\n",
    "\n",
    "    def get_username(self):\n",
    "        return self._username\n",
    "\n",
    "    def set_username(self, username):\n",
    "        self._username = username\n",
    "\n",
    "    def get_password(self):\n",
    "        return self._password\n",
    "\n",
    "    def set_username(self, password):\n",
    "        self._password = password\n"
   ]
  },
  {
   "cell_type": "markdown",
   "metadata": {},
   "source": [
    "With python's properties:\n",
    "\n",
    "* You can expose class attributes as public by default.\n",
    "\n",
    "* Then convert one attribute to private and add getter and setter methods when necessary.\n"
   ]
  },
  {
   "cell_type": "code",
   "execution_count": 25,
   "metadata": {},
   "outputs": [],
   "source": [
    "class UserAccount:\n",
    "    def __init__(self, username, password):\n",
    "        self.username = username\n",
    "        self._password = password\n",
    "\n",
    "    @property\n",
    "    def password(self):\n",
    "        return self._password\n",
    "    \n",
    "    @password.setter\n",
    "    def password(self, value):\n",
    "        self._password = value\n"
   ]
  },
  {
   "cell_type": "markdown",
   "metadata": {},
   "source": [
    "## Dynamic polymorphism"
   ]
  },
  {
   "cell_type": "markdown",
   "metadata": {},
   "source": [
    "Python's mechanism of polymorphism is called \"duck typing\": \n",
    "\n",
    "* This means that any object can be used within a given context as long as the object works and behaves as the context expects.\n",
    "\n",
    "* \"If it walks like a duck and it quacks like a duck, then it must be a duck\".\n"
   ]
  },
  {
   "cell_type": "markdown",
   "metadata": {},
   "source": [
    "Consider the following example:"
   ]
  },
  {
   "cell_type": "code",
   "execution_count": 26,
   "metadata": {},
   "outputs": [],
   "source": [
    "def printfile(file):\n",
    "    try:\n",
    "        contents = file.read()\n",
    "        print(file)\n",
    "    finally:\n",
    "        file.close()\n"
   ]
  },
  {
   "cell_type": "markdown",
   "metadata": {},
   "source": [
    "This function won't raise any exception as long as:\n",
    "\n",
    "* The file argument has a read() method.\n",
    "\n",
    "* The result of file.read() is a valid argument to the print() function.\n",
    "\n",
    "* The file argument has the close() method.\n"
   ]
  },
  {
   "cell_type": "markdown",
   "metadata": {},
   "source": [
    "## Dunder methods (language protocols)"
   ]
  },
  {
   "cell_type": "markdown",
   "metadata": {},
   "source": [
    "To see dunder methods in action, consider the following implementation of matrix operations (+, -, *):"
   ]
  },
  {
   "cell_type": "code",
   "execution_count": 27,
   "metadata": {},
   "outputs": [
    {
     "name": "stdout",
     "output_type": "stream",
     "text": [
      "Matrix m1: \n",
      "[1, 2, 3]\n",
      "[4, 1, 4]\n",
      "[5, 7, 9]\n",
      "\n",
      "Matrix m2: \n",
      "[1, 2, 3]\n",
      "[1, 4, 3]\n",
      "[1, 0, 5]\n",
      "\n",
      "Sum of m1 and m2: \n",
      "[2, 4, 6]\n",
      "[5, 5, 7]\n",
      "[6, 7, 14]\n",
      "\n",
      "Substraction of m1 and m2: \n",
      "[0, 0, 0]\n",
      "[3, -3, 1]\n",
      "[4, 7, 4]\n",
      "\n",
      "Multiplication of m1 and m2: \n",
      "[6, 10, 24]\n",
      "[9, 12, 35]\n",
      "[21, 38, 81]\n",
      "\n"
     ]
    }
   ],
   "source": [
    "!python _06_Dunder_methods/matrices.py\n"
   ]
  },
  {
   "cell_type": "markdown",
   "metadata": {},
   "source": [
    "We can add support for multiplication between a matrix and a scalar as follows:"
   ]
  },
  {
   "cell_type": "code",
   "execution_count": 1,
   "metadata": {},
   "outputs": [
    {
     "name": "stdout",
     "output_type": "stream",
     "text": [
      "Matrix m1: \n",
      "[1, 2, 3]\n",
      "[4, 1, 4]\n",
      "[5, 7, 9]\n",
      "\n",
      "Matrix m2: \n",
      "[1, 2, 3]\n",
      "[1, 4, 3]\n",
      "[1, 0, 5]\n",
      "\n",
      "Multiplication of m1 by 2: \n",
      "[2, 4, 6]\n",
      "[8, 2, 8]\n",
      "[10, 14, 18]\n",
      "\n",
      "Multiplication of m2 by 3: \n",
      "[3, 6, 9]\n",
      "[3, 12, 9]\n",
      "[3, 0, 15]\n",
      "\n"
     ]
    }
   ],
   "source": [
    "!python _06_Dunder_methods/matrices_with_scalars.py\n"
   ]
  }
 ],
 "metadata": {
  "kernelspec": {
   "display_name": "expert-python-programming-fourth-edition-em7utuy--py3.10",
   "language": "python",
   "name": "python3"
  },
  "language_info": {
   "codemirror_mode": {
    "name": "ipython",
    "version": 3
   },
   "file_extension": ".py",
   "mimetype": "text/x-python",
   "name": "python",
   "nbconvert_exporter": "python",
   "pygments_lexer": "ipython3",
   "version": "3.10.12"
  }
 },
 "nbformat": 4,
 "nbformat_minor": 2
}
