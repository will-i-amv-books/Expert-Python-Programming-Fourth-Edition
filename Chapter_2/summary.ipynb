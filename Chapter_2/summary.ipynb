{
 "cells": [
  {
   "cell_type": "markdown",
   "metadata": {},
   "source": [
    "# Modern Python Development Environments\n"
   ]
  },
  {
   "cell_type": "markdown",
   "metadata": {},
   "source": [
    "## Python's packaging ecosystem\n"
   ]
  },
  {
   "cell_type": "markdown",
   "metadata": {},
   "source": [
    "### Installing Python packages using pip\n"
   ]
  },
  {
   "cell_type": "markdown",
   "metadata": {},
   "source": [
    "Installing a new package with pip:\n",
    "\n",
    "    $ pip install <package-name>\n",
    "\n",
    "Check pip's available options:\n",
    "\n",
    "    $ pip --help\n",
    "\n"
   ]
  },
  {
   "cell_type": "markdown",
   "metadata": {},
   "source": [
    "### Isolating the runtime environment\n"
   ]
  },
  {
   "cell_type": "markdown",
   "metadata": {},
   "source": [
    "Inspect paths where Python will search for modules and packages:\n",
    "\n",
    "    $ python3 -m site\n",
    "\n",
    "Installing packages from PyPI into the global site-packages directory \n",
    "is not recommended and should be avoided:\n",
    "\n",
    "* Python is an important part of many packages that are available \n",
    "  through operating system package repositories and power a lot of important services.\n",
    "\n",
    "* Python packages that are available from a system's package repositories\n",
    "  (apt, yum, or rpm) contain custom patches or are purposely kept outdated to\n",
    "  ensure compatibility with other system components. \n",
    "\n",
    "* Forcing an update of such packages, using pip, to a version that breaks \n",
    "  backward compatibility might cause bugs in crucial system services.\n"
   ]
  },
  {
   "cell_type": "markdown",
   "metadata": {},
   "source": [
    "There is an solution to this problem: environment isolation. \n",
    "The benefits of this approach are as follows:\n",
    "\n",
    "* It solves the project X depends on package 1.x but project Y needs package 4.x dilemma. \n",
    "\n",
    "* The project is no longer constrained by versions of packages that are\n",
    "  provided in the developer's system distribution repositories.\n",
    "\n",
    "* There is no risk of breaking other system services that depend on certain package versions, \n",
    "  because new package versions are only available inside such an environment.\n",
    "\n",
    "* A list of packages that are project dependencies can be easily locked.\n"
   ]
  },
  {
   "cell_type": "markdown",
   "metadata": {},
   "source": [
    "### Application-level environment isolation\n"
   ]
  },
  {
   "cell_type": "markdown",
   "metadata": {},
   "source": [
    "Create a new virtual environment:\n",
    "\n",
    "    $ python3.X -m venv <env-name>\n",
    "\n",
    "Activate the virtual environment:\n",
    "    \n",
    "    $ source <env-name>/bin/activate\n",
    "\n",
    "Best practices with virtual envs:\n",
    "\n",
    "* They are not portable and should not be moved to another system/machine or even a different filesystem path.\n",
    "\n",
    "* Thy are useful for writing focused libraries that are independent of the operating system \n",
    "  or projects of low complexity that don't have too many external dependencies.\n"
   ]
  },
  {
   "cell_type": "markdown",
   "metadata": {},
   "source": [
    "A best practice used by pip users is to store the definition of all project dependencies in a single file 'requirements.txt'.\n",
    "You can install the dependencies using the -r flag to specify the file path:\n",
    "    \n",
    "    $ pip install -r requirements.txt\n",
    "\n",
    "Best practices with requitements.txt file:\n",
    "\n",
    "* Pinned version specifiers are best for reproducibility\n",
    "\n",
    "* For projects that are well tested with different dependency versions, \n",
    "  version ranges are acceptable\n",
    "\n",
    "* Packages without versions should be avoided unless latest release is always required\n",
    "\n"
   ]
  },
  {
   "cell_type": "markdown",
   "metadata": {},
   "source": [
    "### Poetry as a dependency management system\n"
   ]
  },
  {
   "cell_type": "markdown",
   "metadata": {},
   "source": [
    "Poetry can be installed using pip (outside of a virtual environment):\n",
    "    \n",
    "    $ pip install --user poetry\n",
    "\n",
    "Create a completely new project:\n",
    "\n",
    "    $ poetry new <my-project-name>\n",
    "\n",
    "Initialize an existing project:\n",
    "\n",
    "    $ cd <my-project-name>\n",
    "    $ poetry init\n",
    "\n",
    "If you create a new project or initialize an existing one using Poetry, \n",
    "it will create a new virtual environment in a shared location.\n",
    "You can activate it as follows:\n",
    "\n",
    "    $ cd <my-project-name>\n",
    "    $ poetry shell\n",
    "\n",
    "Install a new dependency to your project:\n",
    "    \n",
    "    $ poetry add <package-name>\n",
    "\n",
    "Install a new dependency to your project, but as a dev dependency:\n",
    "    \n",
    "    $ poetry add --group dev <package-name>\n",
    "\n",
    "When your environment has a working and tested set of package versions, \n",
    "create a lock file:\n",
    "    \n",
    "    $ poetry lock\n"
   ]
  },
  {
   "cell_type": "markdown",
   "metadata": {},
   "source": [
    "### System-level environment isolation\n",
    "\n"
   ]
  },
  {
   "cell_type": "markdown",
   "metadata": {},
   "source": [
    "Advantages:\n",
    "\n",
    "* The development environment can exactly match the system version, services, \n",
    "  and shared libraries used in production, which helps to solve compatibility issues.\n",
    "\n",
    "* Definitions for system configuration tools (if used) can be reused \n",
    "  to configure both the production and development environments.\n",
    "\n",
    "* The newly hired team members can easily hop into the project \n",
    "  if the creation of such environments is automated.\n"
   ]
  },
  {
   "cell_type": "markdown",
   "metadata": {},
   "source": [
    "### Virtual environments using Docker\n"
   ]
  },
  {
   "cell_type": "markdown",
   "metadata": {},
   "source": [
    "Dockerfiles:\n",
    "\n",
    "* A Dockerfile is a description of how to create a Docker image.    \n",
    "\n",
    "* A Docker image is described in the Dockerfile by instructions in the format:\n",
    "    INSTRUCTION arguments\n",
    "\n",
    "Dockerfiles - basic instructions:\n",
    "\n",
    "* FROM [image-name]: This describes the base image that your image will be based on. \n",
    "\n",
    "* COPY [src] [dst]: This copies files from the local filesystem to the container's filesystem.\n",
    "\n",
    "* ADD [src] [dst]: Similar to COPY but automatically unpacks archives and allows URLs in [src].\n",
    "\n",
    "* RUN [command]: Runs a specified command on top of previous layers.\n",
    "\n",
    "* ENTRYPOINT [\"[executable]\", \"[param]\", ...]: Configures the default command to be run as your container starts (/bin/sh -c by default)\n",
    "\n",
    "* CMD [\"[param]\", ...]: Specifies the default parameters for image entry points. \n",
    "\n",
    "* WORKDIR [dir]: Sets the current working directory for the next instructions.\n"
   ]
  },
  {
   "cell_type": "markdown",
   "metadata": {},
   "source": [
    "Docker basic commands:\n",
    "\n",
    "* Build Docker image:\n",
    "    \n",
    "        $ docker build -t <name> <path>\n",
    "\n",
    "* List all Docker images:\n",
    "    \n",
    "        $ docker images\n",
    "\n",
    "* Create a network:\n",
    "    \n",
    "        $ docker network create <my-network-name>\n",
    "\n",
    "* An example of running a Docker image in interactive mode: \n",
    "    \n",
    "        $ docker run -it --rm --publish 5000:5000 echo\n",
    "\n",
    "    Explanation of the above argument options:\n",
    "\n",
    "    - The -i (for interactive) keeps STDIN open, even if the container process is detached. \n",
    "\n",
    "    - The -t (for tty) allocates pseudo-TTY for the container. \n",
    "\n",
    "    - The --rm Tells Docker to automatically remove the container when it exits.\n",
    "\n",
    "    - The --publish 5000:5000  tells Docker to publish the container's port 5000 \n",
    "    by binding port 5000 on the host's interface. \n"
   ]
  },
  {
   "cell_type": "markdown",
   "metadata": {},
   "source": [
    "Docker Compose\n",
    "\n",
    "* It allows you to describe multi-container applications using the YAML syntax.\n",
    "\n",
    "* There are 2 main commands:\n",
    "    - docker compose up: Starts all containers defined in the docker-compose.yml file and actively prints their standard output.\n",
    "    - docker compose down: Stops all containers started by docker-compose in the current project directory.\n"
   ]
  }
 ],
 "metadata": {
  "kernelspec": {
   "display_name": "expert-python-programming-fourth-edition-em7utuy--py3.10",
   "language": "python",
   "name": "python3"
  },
  "language_info": {
   "codemirror_mode": {
    "name": "ipython",
    "version": 3
   },
   "file_extension": ".py",
   "mimetype": "text/x-python",
   "name": "python",
   "nbconvert_exporter": "python",
   "pygments_lexer": "ipython3",
   "version": "3.10.12"
  }
 },
 "nbformat": 4,
 "nbformat_minor": 2
}
